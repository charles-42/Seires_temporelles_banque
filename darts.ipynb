{
 "cells": [
  {
   "cell_type": "code",
   "execution_count": 49,
   "metadata": {},
   "outputs": [],
   "source": [
    "from sklearn.preprocessing import MinMaxScaler\n",
    "from darts import TimeSeries\n",
    "from darts.dataprocessing.transformers import Scaler\n",
    "from darts.models import NaiveSeasonal, NaiveDrift, AutoARIMA, ARIMA,XGBModel,Prophet\n",
    "import numpy as np\n",
    "from darts.metrics import mape, mase, mae, mse\n",
    "import matplotlib.pyplot as plt\n",
    "import os\n",
    "import pandas as pd\n"
   ]
  },
  {
   "attachments": {},
   "cell_type": "markdown",
   "metadata": {},
   "source": [
    "# Naive saisonal"
   ]
  },
  {
   "cell_type": "code",
   "execution_count": 66,
   "metadata": {},
   "outputs": [
    {
     "name": "stdout",
     "output_type": "stream",
     "text": [
      "(11903, 3)\n",
      "Entite 1 F1\n"
     ]
    },
    {
     "name": "stderr",
     "output_type": "stream",
     "text": [
      "/var/folders/py/4rt338cj1ks4z3332m7l3f880000gp/T/ipykernel_38207/3398170501.py:43: FutureWarning: The frame.append method is deprecated and will be removed from pandas in a future version. Use pandas.concat instead.\n",
      "  df_naive_saisonal = df_naive_saisonal.append(row_dict, ignore_index=True)\n"
     ]
    },
    {
     "name": "stdout",
     "output_type": "stream",
     "text": [
      "Entite 2 F1\n"
     ]
    },
    {
     "name": "stderr",
     "output_type": "stream",
     "text": [
      "/var/folders/py/4rt338cj1ks4z3332m7l3f880000gp/T/ipykernel_38207/3398170501.py:43: FutureWarning: The frame.append method is deprecated and will be removed from pandas in a future version. Use pandas.concat instead.\n",
      "  df_naive_saisonal = df_naive_saisonal.append(row_dict, ignore_index=True)\n"
     ]
    },
    {
     "name": "stdout",
     "output_type": "stream",
     "text": [
      "Entite 3 F1\n",
      "Entite 4 F1\n",
      "Entite 5 F1\n"
     ]
    },
    {
     "name": "stderr",
     "output_type": "stream",
     "text": [
      "/var/folders/py/4rt338cj1ks4z3332m7l3f880000gp/T/ipykernel_38207/3398170501.py:43: FutureWarning: The frame.append method is deprecated and will be removed from pandas in a future version. Use pandas.concat instead.\n",
      "  df_naive_saisonal = df_naive_saisonal.append(row_dict, ignore_index=True)\n"
     ]
    },
    {
     "name": "stdout",
     "output_type": "stream",
     "text": [
      "Entite 1 F2\n"
     ]
    },
    {
     "name": "stderr",
     "output_type": "stream",
     "text": [
      "/var/folders/py/4rt338cj1ks4z3332m7l3f880000gp/T/ipykernel_38207/3398170501.py:43: FutureWarning: The frame.append method is deprecated and will be removed from pandas in a future version. Use pandas.concat instead.\n",
      "  df_naive_saisonal = df_naive_saisonal.append(row_dict, ignore_index=True)\n"
     ]
    },
    {
     "name": "stdout",
     "output_type": "stream",
     "text": [
      "Entite 2 F2\n"
     ]
    },
    {
     "name": "stderr",
     "output_type": "stream",
     "text": [
      "/var/folders/py/4rt338cj1ks4z3332m7l3f880000gp/T/ipykernel_38207/3398170501.py:43: FutureWarning: The frame.append method is deprecated and will be removed from pandas in a future version. Use pandas.concat instead.\n",
      "  df_naive_saisonal = df_naive_saisonal.append(row_dict, ignore_index=True)\n"
     ]
    },
    {
     "name": "stdout",
     "output_type": "stream",
     "text": [
      "Entite 3 F2\n"
     ]
    },
    {
     "name": "stderr",
     "output_type": "stream",
     "text": [
      "/var/folders/py/4rt338cj1ks4z3332m7l3f880000gp/T/ipykernel_38207/3398170501.py:43: FutureWarning: The frame.append method is deprecated and will be removed from pandas in a future version. Use pandas.concat instead.\n",
      "  df_naive_saisonal = df_naive_saisonal.append(row_dict, ignore_index=True)\n"
     ]
    },
    {
     "name": "stdout",
     "output_type": "stream",
     "text": [
      "Entite 4 F2\n",
      "Entite 5 F2\n"
     ]
    },
    {
     "name": "stderr",
     "output_type": "stream",
     "text": [
      "/var/folders/py/4rt338cj1ks4z3332m7l3f880000gp/T/ipykernel_38207/3398170501.py:43: FutureWarning: The frame.append method is deprecated and will be removed from pandas in a future version. Use pandas.concat instead.\n",
      "  df_naive_saisonal = df_naive_saisonal.append(row_dict, ignore_index=True)\n"
     ]
    },
    {
     "name": "stdout",
     "output_type": "stream",
     "text": [
      "Entite 1 F3\n"
     ]
    },
    {
     "name": "stderr",
     "output_type": "stream",
     "text": [
      "/var/folders/py/4rt338cj1ks4z3332m7l3f880000gp/T/ipykernel_38207/3398170501.py:43: FutureWarning: The frame.append method is deprecated and will be removed from pandas in a future version. Use pandas.concat instead.\n",
      "  df_naive_saisonal = df_naive_saisonal.append(row_dict, ignore_index=True)\n"
     ]
    },
    {
     "name": "stdout",
     "output_type": "stream",
     "text": [
      "Entite 2 F3\n"
     ]
    },
    {
     "name": "stderr",
     "output_type": "stream",
     "text": [
      "/var/folders/py/4rt338cj1ks4z3332m7l3f880000gp/T/ipykernel_38207/3398170501.py:43: FutureWarning: The frame.append method is deprecated and will be removed from pandas in a future version. Use pandas.concat instead.\n",
      "  df_naive_saisonal = df_naive_saisonal.append(row_dict, ignore_index=True)\n"
     ]
    },
    {
     "name": "stdout",
     "output_type": "stream",
     "text": [
      "Entite 3 F3\n",
      "Entite 4 F3\n",
      "Entite 5 F3\n"
     ]
    },
    {
     "name": "stderr",
     "output_type": "stream",
     "text": [
      "/var/folders/py/4rt338cj1ks4z3332m7l3f880000gp/T/ipykernel_38207/3398170501.py:43: FutureWarning: The frame.append method is deprecated and will be removed from pandas in a future version. Use pandas.concat instead.\n",
      "  df_naive_saisonal = df_naive_saisonal.append(row_dict, ignore_index=True)\n"
     ]
    },
    {
     "name": "stdout",
     "output_type": "stream",
     "text": [
      "Entite 1 F5\n"
     ]
    },
    {
     "name": "stderr",
     "output_type": "stream",
     "text": [
      "/var/folders/py/4rt338cj1ks4z3332m7l3f880000gp/T/ipykernel_38207/3398170501.py:43: FutureWarning: The frame.append method is deprecated and will be removed from pandas in a future version. Use pandas.concat instead.\n",
      "  df_naive_saisonal = df_naive_saisonal.append(row_dict, ignore_index=True)\n"
     ]
    },
    {
     "name": "stdout",
     "output_type": "stream",
     "text": [
      "Entite 2 F5\n",
      "Entite 3 F5\n"
     ]
    },
    {
     "name": "stderr",
     "output_type": "stream",
     "text": [
      "/var/folders/py/4rt338cj1ks4z3332m7l3f880000gp/T/ipykernel_38207/3398170501.py:43: FutureWarning: The frame.append method is deprecated and will be removed from pandas in a future version. Use pandas.concat instead.\n",
      "  df_naive_saisonal = df_naive_saisonal.append(row_dict, ignore_index=True)\n"
     ]
    },
    {
     "name": "stdout",
     "output_type": "stream",
     "text": [
      "Entite 4 F5\n"
     ]
    },
    {
     "name": "stderr",
     "output_type": "stream",
     "text": [
      "/var/folders/py/4rt338cj1ks4z3332m7l3f880000gp/T/ipykernel_38207/3398170501.py:43: FutureWarning: The frame.append method is deprecated and will be removed from pandas in a future version. Use pandas.concat instead.\n",
      "  df_naive_saisonal = df_naive_saisonal.append(row_dict, ignore_index=True)\n"
     ]
    },
    {
     "name": "stdout",
     "output_type": "stream",
     "text": [
      "Entite 5 F5\n"
     ]
    },
    {
     "name": "stderr",
     "output_type": "stream",
     "text": [
      "/var/folders/py/4rt338cj1ks4z3332m7l3f880000gp/T/ipykernel_38207/3398170501.py:43: FutureWarning: The frame.append method is deprecated and will be removed from pandas in a future version. Use pandas.concat instead.\n",
      "  df_naive_saisonal = df_naive_saisonal.append(row_dict, ignore_index=True)\n"
     ]
    },
    {
     "name": "stdout",
     "output_type": "stream",
     "text": [
      "Entite 1 F6\n"
     ]
    },
    {
     "name": "stderr",
     "output_type": "stream",
     "text": [
      "/var/folders/py/4rt338cj1ks4z3332m7l3f880000gp/T/ipykernel_38207/3398170501.py:43: FutureWarning: The frame.append method is deprecated and will be removed from pandas in a future version. Use pandas.concat instead.\n",
      "  df_naive_saisonal = df_naive_saisonal.append(row_dict, ignore_index=True)\n"
     ]
    },
    {
     "name": "stdout",
     "output_type": "stream",
     "text": [
      "Entite 2 F6\n",
      "Entite 3 F6\n",
      "Entite 4 F6\n",
      "Entite 5 F6\n"
     ]
    },
    {
     "name": "stderr",
     "output_type": "stream",
     "text": [
      "/var/folders/py/4rt338cj1ks4z3332m7l3f880000gp/T/ipykernel_38207/3398170501.py:43: FutureWarning: The frame.append method is deprecated and will be removed from pandas in a future version. Use pandas.concat instead.\n",
      "  df_naive_saisonal = df_naive_saisonal.append(row_dict, ignore_index=True)\n"
     ]
    },
    {
     "name": "stdout",
     "output_type": "stream",
     "text": [
      "Entite 1 F7\n"
     ]
    },
    {
     "name": "stderr",
     "output_type": "stream",
     "text": [
      "/var/folders/py/4rt338cj1ks4z3332m7l3f880000gp/T/ipykernel_38207/3398170501.py:43: FutureWarning: The frame.append method is deprecated and will be removed from pandas in a future version. Use pandas.concat instead.\n",
      "  df_naive_saisonal = df_naive_saisonal.append(row_dict, ignore_index=True)\n"
     ]
    },
    {
     "name": "stdout",
     "output_type": "stream",
     "text": [
      "Entite 2 F7\n",
      "Entite 3 F7\n"
     ]
    },
    {
     "name": "stderr",
     "output_type": "stream",
     "text": [
      "/var/folders/py/4rt338cj1ks4z3332m7l3f880000gp/T/ipykernel_38207/3398170501.py:43: FutureWarning: The frame.append method is deprecated and will be removed from pandas in a future version. Use pandas.concat instead.\n",
      "  df_naive_saisonal = df_naive_saisonal.append(row_dict, ignore_index=True)\n"
     ]
    },
    {
     "name": "stdout",
     "output_type": "stream",
     "text": [
      "Entite 4 F7\n"
     ]
    },
    {
     "name": "stderr",
     "output_type": "stream",
     "text": [
      "/var/folders/py/4rt338cj1ks4z3332m7l3f880000gp/T/ipykernel_38207/3398170501.py:43: FutureWarning: The frame.append method is deprecated and will be removed from pandas in a future version. Use pandas.concat instead.\n",
      "  df_naive_saisonal = df_naive_saisonal.append(row_dict, ignore_index=True)\n"
     ]
    },
    {
     "name": "stdout",
     "output_type": "stream",
     "text": [
      "Entite 5 F7\n"
     ]
    },
    {
     "name": "stderr",
     "output_type": "stream",
     "text": [
      "/var/folders/py/4rt338cj1ks4z3332m7l3f880000gp/T/ipykernel_38207/3398170501.py:43: FutureWarning: The frame.append method is deprecated and will be removed from pandas in a future version. Use pandas.concat instead.\n",
      "  df_naive_saisonal = df_naive_saisonal.append(row_dict, ignore_index=True)\n"
     ]
    }
   ],
   "source": [
    "%matplotlib agg\n",
    "\n",
    "df_tel = pd.read_csv('data/telephonie_select.csv', index_col=\"date_appel\", parse_dates = True)\n",
    "\n",
    "print(df_tel.shape)\n",
    "liste_famille = df_tel.Famille.unique()\n",
    "liste_entite = df_tel.Entite.unique()\n",
    "\n",
    "df_naive_saisonal = pd.DataFrame(columns = ['model','Entite', 'Famille','mape','mase','mae','mse'])\n",
    "\n",
    "for i, famille in enumerate(liste_famille):\n",
    "    for j, entite in enumerate(liste_entite):\n",
    "        print(entite,famille)\n",
    "        \n",
    "        df = df_tel[(df_tel[\"Entite\"] == entite)& (df_tel[\"Famille\"] == famille)]  \n",
    "        if len(df)>0:      \n",
    "            df = df.asfreq('d')\n",
    "            df.Entite = df.Entite.fillna(entite)\n",
    "            df.Famille = df.Famille.fillna(famille)\n",
    "            df.Nombre_entrants_corrige = df.Nombre_entrants_corrige.fillna(0)\n",
    "            df = df.reset_index(names='date')\n",
    "            series = TimeSeries.from_dataframe(df=df, time_col=\"date\", value_cols='Nombre_entrants_corrige')\n",
    "            scaler = MinMaxScaler(feature_range=(-1, 1))\n",
    "            scaler = Scaler(scaler)\n",
    "\n",
    "            train, val = series[:-45], series[-45:]\n",
    "            train = scaler.fit_transform(train)\n",
    "            val = scaler.transform(val)\n",
    "            series_norm = scaler.transform(series)\n",
    "            model = NaiveSeasonal(K=7)            # init\n",
    "            model.fit(train)                      # fit\n",
    "            pred = model.predict(n=45) \n",
    "            mape_score = mape(val, pred)\n",
    "            mase_score = mase(val, pred,insample = train, m=7)\n",
    "            mae_score = mae(val, pred)\n",
    "            mse_score = mse(val, pred)\n",
    "            row_dict= {\n",
    "                'model':'NaiveSeasonal',\n",
    "                'Entite':entite, 'Famille':famille,\n",
    "                'mape':mape_score, 'mase':mase_score,\n",
    "                'mae':mae_score, 'mse':mse_score\n",
    "            }\n",
    "            df_naive_saisonal = df_naive_saisonal.append(row_dict, ignore_index=True)\n",
    "            \n",
    "\n",
    "\n",
    "            plt.figure(figsize=(8,6))\n",
    "            series_norm[-90:].plot(lw=3)\n",
    "            pred.plot(lw=3, label='forecast')\n",
    "            plt.savefig(f'images/output/naive_saisonal/{entite}_{famille}.png')\n",
    "df_naive_saisonal.to_csv(\"data/df_naive_saisonal.csv\",index=False)"
   ]
  },
  {
   "cell_type": "markdown",
   "metadata": {},
   "source": [
    "# Naive Drift"
   ]
  },
  {
   "cell_type": "code",
   "execution_count": 70,
   "metadata": {},
   "outputs": [
    {
     "name": "stdout",
     "output_type": "stream",
     "text": [
      "(11903, 3)\n",
      "Entite 1 F1\n"
     ]
    },
    {
     "name": "stderr",
     "output_type": "stream",
     "text": [
      "/var/folders/py/4rt338cj1ks4z3332m7l3f880000gp/T/ipykernel_38207/4264650734.py:44: FutureWarning: The frame.append method is deprecated and will be removed from pandas in a future version. Use pandas.concat instead.\n",
      "  df_result = df_result.append(row_dict, ignore_index=True)\n"
     ]
    },
    {
     "name": "stdout",
     "output_type": "stream",
     "text": [
      "Entite 2 F1\n"
     ]
    },
    {
     "name": "stderr",
     "output_type": "stream",
     "text": [
      "/var/folders/py/4rt338cj1ks4z3332m7l3f880000gp/T/ipykernel_38207/4264650734.py:44: FutureWarning: The frame.append method is deprecated and will be removed from pandas in a future version. Use pandas.concat instead.\n",
      "  df_result = df_result.append(row_dict, ignore_index=True)\n"
     ]
    },
    {
     "name": "stdout",
     "output_type": "stream",
     "text": [
      "Entite 3 F1\n",
      "Entite 4 F1\n",
      "Entite 5 F1\n"
     ]
    },
    {
     "name": "stderr",
     "output_type": "stream",
     "text": [
      "/var/folders/py/4rt338cj1ks4z3332m7l3f880000gp/T/ipykernel_38207/4264650734.py:44: FutureWarning: The frame.append method is deprecated and will be removed from pandas in a future version. Use pandas.concat instead.\n",
      "  df_result = df_result.append(row_dict, ignore_index=True)\n"
     ]
    },
    {
     "name": "stdout",
     "output_type": "stream",
     "text": [
      "Entite 1 F2\n"
     ]
    },
    {
     "name": "stderr",
     "output_type": "stream",
     "text": [
      "/var/folders/py/4rt338cj1ks4z3332m7l3f880000gp/T/ipykernel_38207/4264650734.py:44: FutureWarning: The frame.append method is deprecated and will be removed from pandas in a future version. Use pandas.concat instead.\n",
      "  df_result = df_result.append(row_dict, ignore_index=True)\n"
     ]
    },
    {
     "name": "stdout",
     "output_type": "stream",
     "text": [
      "Entite 2 F2\n"
     ]
    },
    {
     "name": "stderr",
     "output_type": "stream",
     "text": [
      "/var/folders/py/4rt338cj1ks4z3332m7l3f880000gp/T/ipykernel_38207/4264650734.py:44: FutureWarning: The frame.append method is deprecated and will be removed from pandas in a future version. Use pandas.concat instead.\n",
      "  df_result = df_result.append(row_dict, ignore_index=True)\n"
     ]
    },
    {
     "name": "stdout",
     "output_type": "stream",
     "text": [
      "Entite 3 F2\n"
     ]
    },
    {
     "name": "stderr",
     "output_type": "stream",
     "text": [
      "/var/folders/py/4rt338cj1ks4z3332m7l3f880000gp/T/ipykernel_38207/4264650734.py:44: FutureWarning: The frame.append method is deprecated and will be removed from pandas in a future version. Use pandas.concat instead.\n",
      "  df_result = df_result.append(row_dict, ignore_index=True)\n"
     ]
    },
    {
     "name": "stdout",
     "output_type": "stream",
     "text": [
      "Entite 4 F2\n",
      "Entite 5 F2\n"
     ]
    },
    {
     "name": "stderr",
     "output_type": "stream",
     "text": [
      "/var/folders/py/4rt338cj1ks4z3332m7l3f880000gp/T/ipykernel_38207/4264650734.py:44: FutureWarning: The frame.append method is deprecated and will be removed from pandas in a future version. Use pandas.concat instead.\n",
      "  df_result = df_result.append(row_dict, ignore_index=True)\n"
     ]
    },
    {
     "name": "stdout",
     "output_type": "stream",
     "text": [
      "Entite 1 F3\n"
     ]
    },
    {
     "name": "stderr",
     "output_type": "stream",
     "text": [
      "/var/folders/py/4rt338cj1ks4z3332m7l3f880000gp/T/ipykernel_38207/4264650734.py:44: FutureWarning: The frame.append method is deprecated and will be removed from pandas in a future version. Use pandas.concat instead.\n",
      "  df_result = df_result.append(row_dict, ignore_index=True)\n"
     ]
    },
    {
     "name": "stdout",
     "output_type": "stream",
     "text": [
      "Entite 2 F3\n"
     ]
    },
    {
     "name": "stderr",
     "output_type": "stream",
     "text": [
      "/var/folders/py/4rt338cj1ks4z3332m7l3f880000gp/T/ipykernel_38207/4264650734.py:44: FutureWarning: The frame.append method is deprecated and will be removed from pandas in a future version. Use pandas.concat instead.\n",
      "  df_result = df_result.append(row_dict, ignore_index=True)\n"
     ]
    },
    {
     "name": "stdout",
     "output_type": "stream",
     "text": [
      "Entite 3 F3\n",
      "Entite 4 F3\n",
      "Entite 5 F3\n"
     ]
    },
    {
     "name": "stderr",
     "output_type": "stream",
     "text": [
      "/var/folders/py/4rt338cj1ks4z3332m7l3f880000gp/T/ipykernel_38207/4264650734.py:44: FutureWarning: The frame.append method is deprecated and will be removed from pandas in a future version. Use pandas.concat instead.\n",
      "  df_result = df_result.append(row_dict, ignore_index=True)\n"
     ]
    },
    {
     "name": "stdout",
     "output_type": "stream",
     "text": [
      "Entite 1 F5\n"
     ]
    },
    {
     "name": "stderr",
     "output_type": "stream",
     "text": [
      "/var/folders/py/4rt338cj1ks4z3332m7l3f880000gp/T/ipykernel_38207/4264650734.py:44: FutureWarning: The frame.append method is deprecated and will be removed from pandas in a future version. Use pandas.concat instead.\n",
      "  df_result = df_result.append(row_dict, ignore_index=True)\n"
     ]
    },
    {
     "name": "stdout",
     "output_type": "stream",
     "text": [
      "Entite 2 F5\n",
      "Entite 3 F5\n"
     ]
    },
    {
     "name": "stderr",
     "output_type": "stream",
     "text": [
      "/var/folders/py/4rt338cj1ks4z3332m7l3f880000gp/T/ipykernel_38207/4264650734.py:44: FutureWarning: The frame.append method is deprecated and will be removed from pandas in a future version. Use pandas.concat instead.\n",
      "  df_result = df_result.append(row_dict, ignore_index=True)\n"
     ]
    },
    {
     "name": "stdout",
     "output_type": "stream",
     "text": [
      "Entite 4 F5\n"
     ]
    },
    {
     "name": "stderr",
     "output_type": "stream",
     "text": [
      "/var/folders/py/4rt338cj1ks4z3332m7l3f880000gp/T/ipykernel_38207/4264650734.py:44: FutureWarning: The frame.append method is deprecated and will be removed from pandas in a future version. Use pandas.concat instead.\n",
      "  df_result = df_result.append(row_dict, ignore_index=True)\n"
     ]
    },
    {
     "name": "stdout",
     "output_type": "stream",
     "text": [
      "Entite 5 F5\n"
     ]
    },
    {
     "name": "stderr",
     "output_type": "stream",
     "text": [
      "/var/folders/py/4rt338cj1ks4z3332m7l3f880000gp/T/ipykernel_38207/4264650734.py:44: FutureWarning: The frame.append method is deprecated and will be removed from pandas in a future version. Use pandas.concat instead.\n",
      "  df_result = df_result.append(row_dict, ignore_index=True)\n"
     ]
    },
    {
     "name": "stdout",
     "output_type": "stream",
     "text": [
      "Entite 1 F6\n"
     ]
    },
    {
     "name": "stderr",
     "output_type": "stream",
     "text": [
      "/var/folders/py/4rt338cj1ks4z3332m7l3f880000gp/T/ipykernel_38207/4264650734.py:44: FutureWarning: The frame.append method is deprecated and will be removed from pandas in a future version. Use pandas.concat instead.\n",
      "  df_result = df_result.append(row_dict, ignore_index=True)\n"
     ]
    },
    {
     "name": "stdout",
     "output_type": "stream",
     "text": [
      "Entite 2 F6\n",
      "Entite 3 F6\n",
      "Entite 4 F6\n",
      "Entite 5 F6\n"
     ]
    },
    {
     "name": "stderr",
     "output_type": "stream",
     "text": [
      "/var/folders/py/4rt338cj1ks4z3332m7l3f880000gp/T/ipykernel_38207/4264650734.py:44: FutureWarning: The frame.append method is deprecated and will be removed from pandas in a future version. Use pandas.concat instead.\n",
      "  df_result = df_result.append(row_dict, ignore_index=True)\n"
     ]
    },
    {
     "name": "stdout",
     "output_type": "stream",
     "text": [
      "Entite 1 F7\n"
     ]
    },
    {
     "name": "stderr",
     "output_type": "stream",
     "text": [
      "/var/folders/py/4rt338cj1ks4z3332m7l3f880000gp/T/ipykernel_38207/4264650734.py:44: FutureWarning: The frame.append method is deprecated and will be removed from pandas in a future version. Use pandas.concat instead.\n",
      "  df_result = df_result.append(row_dict, ignore_index=True)\n"
     ]
    },
    {
     "name": "stdout",
     "output_type": "stream",
     "text": [
      "Entite 2 F7\n",
      "Entite 3 F7\n"
     ]
    },
    {
     "name": "stderr",
     "output_type": "stream",
     "text": [
      "/var/folders/py/4rt338cj1ks4z3332m7l3f880000gp/T/ipykernel_38207/4264650734.py:44: FutureWarning: The frame.append method is deprecated and will be removed from pandas in a future version. Use pandas.concat instead.\n",
      "  df_result = df_result.append(row_dict, ignore_index=True)\n"
     ]
    },
    {
     "name": "stdout",
     "output_type": "stream",
     "text": [
      "Entite 4 F7\n"
     ]
    },
    {
     "name": "stderr",
     "output_type": "stream",
     "text": [
      "/var/folders/py/4rt338cj1ks4z3332m7l3f880000gp/T/ipykernel_38207/4264650734.py:44: FutureWarning: The frame.append method is deprecated and will be removed from pandas in a future version. Use pandas.concat instead.\n",
      "  df_result = df_result.append(row_dict, ignore_index=True)\n"
     ]
    },
    {
     "name": "stdout",
     "output_type": "stream",
     "text": [
      "Entite 5 F7\n"
     ]
    },
    {
     "name": "stderr",
     "output_type": "stream",
     "text": [
      "/var/folders/py/4rt338cj1ks4z3332m7l3f880000gp/T/ipykernel_38207/4264650734.py:44: FutureWarning: The frame.append method is deprecated and will be removed from pandas in a future version. Use pandas.concat instead.\n",
      "  df_result = df_result.append(row_dict, ignore_index=True)\n"
     ]
    }
   ],
   "source": [
    "%matplotlib agg\n",
    "\n",
    "df_tel = pd.read_csv('data/telephonie_select.csv', index_col=\"date_appel\", parse_dates = True)\n",
    "\n",
    "print(df_tel.shape)\n",
    "liste_famille = df_tel.Famille.unique()\n",
    "liste_entite = df_tel.Entite.unique()\n",
    "\n",
    "df_result = pd.DataFrame(columns = ['model','Entite', 'Famille','mape','mase','mae','mse'])\n",
    "model_name = 'naive_drift'\n",
    "os.mkdir(f'images/output/{model_name}')\n",
    "for i, famille in enumerate(liste_famille):\n",
    "    for j, entite in enumerate(liste_entite):\n",
    "        print(entite,famille)\n",
    "        \n",
    "        df = df_tel[(df_tel[\"Entite\"] == entite)& (df_tel[\"Famille\"] == famille)]  \n",
    "        if len(df)>0:      \n",
    "            df = df.asfreq('d')\n",
    "            df.Entite = df.Entite.fillna(entite)\n",
    "            df.Famille = df.Famille.fillna(famille)\n",
    "            df.Nombre_entrants_corrige = df.Nombre_entrants_corrige.fillna(0)\n",
    "            df = df.reset_index(names='date')\n",
    "            series = TimeSeries.from_dataframe(df=df, time_col=\"date\", value_cols='Nombre_entrants_corrige')\n",
    "            scaler = MinMaxScaler(feature_range=(-1, 1))\n",
    "            scaler = Scaler(scaler)\n",
    "\n",
    "            train, val = series[:-45], series[-45:]\n",
    "            train = scaler.fit_transform(train)\n",
    "            val = scaler.transform(val)\n",
    "            series_norm = scaler.transform(series)\n",
    "            model = NaiveDrift()            # init\n",
    "            model.fit(train)                      # fit\n",
    "            pred = model.predict(n=45) \n",
    "            mape_score = mape(val, pred)\n",
    "            mase_score = mase(val, pred,insample = train, m=7)\n",
    "            mae_score = mae(val, pred)\n",
    "            mse_score = mse(val, pred)\n",
    "            row_dict= {\n",
    "                'model':'NaiveDrift',\n",
    "                'Entite':entite, 'Famille':famille,\n",
    "                'mape':mape_score, 'mase':mase_score,\n",
    "                'mae':mae_score, 'mse':mse_score\n",
    "            }\n",
    "            df_result = df_result.append(row_dict, ignore_index=True)\n",
    "            \n",
    "\n",
    "\n",
    "            plt.figure(figsize=(8,6))\n",
    "            series_norm[-90:].plot(lw=3)\n",
    "            pred.plot(lw=3, label='forecast')\n",
    "            plt.savefig(f'images/output/{model_name}/{entite}_{famille}.png')\n",
    "df_result.to_csv(f\"data/{model_name}.csv\",index=False)"
   ]
  },
  {
   "attachments": {},
   "cell_type": "markdown",
   "metadata": {},
   "source": [
    "# AUTO-arima"
   ]
  },
  {
   "cell_type": "code",
   "execution_count": 72,
   "metadata": {},
   "outputs": [
    {
     "name": "stdout",
     "output_type": "stream",
     "text": [
      "(11903, 3)\n",
      "Entite 1 F1\n",
      "Performing stepwise search to minimize aic\n",
      " ARIMA(1,0,1)(0,1,1)[7] intercept   : AIC=inf, Time=0.93 sec\n",
      " ARIMA(0,0,0)(0,1,0)[7] intercept   : AIC=124.624, Time=0.05 sec\n",
      " ARIMA(1,0,0)(1,1,0)[7] intercept   : AIC=94.653, Time=0.43 sec\n",
      " ARIMA(0,0,1)(0,1,1)[7] intercept   : AIC=inf, Time=0.78 sec\n",
      " ARIMA(0,0,0)(0,1,0)[7]             : AIC=123.277, Time=0.11 sec\n",
      " ARIMA(1,0,0)(0,1,0)[7] intercept   : AIC=126.166, Time=0.07 sec\n",
      " ARIMA(1,0,0)(2,1,0)[7] intercept   : AIC=82.348, Time=0.62 sec\n",
      " ARIMA(1,0,0)(2,1,1)[7] intercept   : AIC=inf, Time=2.54 sec\n",
      " ARIMA(1,0,0)(1,1,1)[7] intercept   : AIC=inf, Time=2.17 sec\n",
      " ARIMA(0,0,0)(2,1,0)[7] intercept   : AIC=82.417, Time=0.90 sec\n",
      " ARIMA(2,0,0)(2,1,0)[7] intercept   : AIC=84.292, Time=1.35 sec\n",
      " ARIMA(1,0,1)(2,1,0)[7] intercept   : AIC=82.910, Time=1.72 sec\n",
      " ARIMA(0,0,1)(2,1,0)[7] intercept   : AIC=82.225, Time=0.70 sec\n",
      " ARIMA(0,0,1)(1,1,0)[7] intercept   : AIC=94.487, Time=0.32 sec\n",
      " ARIMA(0,0,1)(2,1,1)[7] intercept   : AIC=inf, Time=4.32 sec\n",
      " ARIMA(0,0,1)(1,1,1)[7] intercept   : AIC=inf, Time=1.06 sec\n",
      " ARIMA(0,0,2)(2,1,0)[7] intercept   : AIC=84.007, Time=0.91 sec\n",
      " ARIMA(1,0,2)(2,1,0)[7] intercept   : AIC=84.907, Time=1.21 sec\n",
      " ARIMA(0,0,1)(2,1,0)[7]             : AIC=81.209, Time=0.49 sec\n",
      " ARIMA(0,0,1)(1,1,0)[7]             : AIC=93.447, Time=0.40 sec\n",
      " ARIMA(0,0,1)(2,1,1)[7]             : AIC=inf, Time=1.96 sec\n",
      " ARIMA(0,0,1)(1,1,1)[7]             : AIC=inf, Time=0.85 sec\n",
      " ARIMA(0,0,0)(2,1,0)[7]             : AIC=81.543, Time=0.29 sec\n",
      " ARIMA(1,0,1)(2,1,0)[7]             : AIC=81.955, Time=0.74 sec\n",
      " ARIMA(0,0,2)(2,1,0)[7]             : AIC=83.025, Time=0.46 sec\n",
      " ARIMA(1,0,0)(2,1,0)[7]             : AIC=81.325, Time=0.32 sec\n",
      " ARIMA(1,0,2)(2,1,0)[7]             : AIC=83.945, Time=1.34 sec\n",
      "\n",
      "Best model:  ARIMA(0,0,1)(2,1,0)[7]          \n",
      "Total fit time: 27.331 seconds\n"
     ]
    },
    {
     "name": "stderr",
     "output_type": "stream",
     "text": [
      "/var/folders/py/4rt338cj1ks4z3332m7l3f880000gp/T/ipykernel_38207/2998882079.py:52: FutureWarning: The frame.append method is deprecated and will be removed from pandas in a future version. Use pandas.concat instead.\n",
      "  df_result = df_result.append(row_dict, ignore_index=True)\n"
     ]
    },
    {
     "name": "stdout",
     "output_type": "stream",
     "text": [
      "Entite 2 F1\n",
      "Performing stepwise search to minimize aic\n",
      " ARIMA(1,0,1)(0,1,1)[7] intercept   : AIC=inf, Time=2.84 sec\n",
      " ARIMA(0,0,0)(0,1,0)[7] intercept   : AIC=419.208, Time=0.18 sec\n",
      " ARIMA(1,0,0)(1,1,0)[7] intercept   : AIC=234.760, Time=0.82 sec\n",
      " ARIMA(0,0,1)(0,1,1)[7] intercept   : AIC=11.518, Time=1.16 sec\n",
      " ARIMA(0,0,0)(0,1,0)[7]             : AIC=417.318, Time=0.05 sec\n",
      " ARIMA(0,0,1)(0,1,0)[7] intercept   : AIC=406.098, Time=0.55 sec\n",
      " ARIMA(0,0,1)(1,1,1)[7] intercept   : AIC=inf, Time=3.13 sec\n",
      " ARIMA(0,0,1)(0,1,2)[7] intercept   : AIC=inf, Time=5.78 sec\n",
      " ARIMA(0,0,1)(1,1,0)[7] intercept   : AIC=239.040, Time=2.52 sec\n",
      " ARIMA(0,0,1)(1,1,2)[7] intercept   : AIC=inf, Time=6.99 sec\n",
      " ARIMA(0,0,0)(0,1,1)[7] intercept   : AIC=51.096, Time=1.73 sec\n",
      " ARIMA(0,0,2)(0,1,1)[7] intercept   : AIC=8.020, Time=1.82 sec\n",
      " ARIMA(0,0,2)(0,1,0)[7] intercept   : AIC=406.748, Time=0.80 sec\n",
      " ARIMA(0,0,2)(1,1,1)[7] intercept   : AIC=inf, Time=3.38 sec\n",
      " ARIMA(0,0,2)(0,1,2)[7] intercept   : AIC=inf, Time=3.42 sec\n",
      " ARIMA(0,0,2)(1,1,0)[7] intercept   : AIC=236.811, Time=0.72 sec\n",
      " ARIMA(0,0,2)(1,1,2)[7] intercept   : AIC=inf, Time=7.69 sec\n",
      " ARIMA(1,0,2)(0,1,1)[7] intercept   : AIC=inf, Time=3.92 sec\n",
      " ARIMA(0,0,3)(0,1,1)[7] intercept   : AIC=inf, Time=3.14 sec\n",
      " ARIMA(1,0,3)(0,1,1)[7] intercept   : AIC=inf, Time=4.60 sec\n",
      " ARIMA(0,0,2)(0,1,1)[7]             : AIC=6.197, Time=1.05 sec\n",
      " ARIMA(0,0,2)(0,1,0)[7]             : AIC=404.826, Time=0.51 sec\n",
      " ARIMA(0,0,2)(1,1,1)[7]             : AIC=inf, Time=1.88 sec\n",
      " ARIMA(0,0,2)(0,1,2)[7]             : AIC=inf, Time=1.60 sec\n",
      " ARIMA(0,0,2)(1,1,0)[7]             : AIC=234.944, Time=0.32 sec\n",
      " ARIMA(0,0,2)(1,1,2)[7]             : AIC=inf, Time=4.20 sec\n",
      " ARIMA(0,0,1)(0,1,1)[7]             : AIC=9.720, Time=0.52 sec\n",
      " ARIMA(1,0,2)(0,1,1)[7]             : AIC=inf, Time=2.49 sec\n",
      " ARIMA(0,0,3)(0,1,1)[7]             : AIC=inf, Time=1.26 sec\n",
      " ARIMA(1,0,1)(0,1,1)[7]             : AIC=inf, Time=1.20 sec\n",
      " ARIMA(1,0,3)(0,1,1)[7]             : AIC=inf, Time=3.48 sec\n",
      "\n",
      "Best model:  ARIMA(0,0,2)(0,1,1)[7]          \n",
      "Total fit time: 73.797 seconds\n"
     ]
    },
    {
     "name": "stderr",
     "output_type": "stream",
     "text": [
      "/var/folders/py/4rt338cj1ks4z3332m7l3f880000gp/T/ipykernel_38207/2998882079.py:52: FutureWarning: The frame.append method is deprecated and will be removed from pandas in a future version. Use pandas.concat instead.\n",
      "  df_result = df_result.append(row_dict, ignore_index=True)\n"
     ]
    },
    {
     "name": "stdout",
     "output_type": "stream",
     "text": [
      "Entite 3 F1\n",
      "Entite 4 F1\n",
      "Entite 5 F1\n",
      "Performing stepwise search to minimize aic\n",
      " ARIMA(1,0,1)(0,1,1)[7] intercept   : AIC=inf, Time=1.91 sec\n",
      " ARIMA(0,0,0)(0,1,0)[7] intercept   : AIC=-551.614, Time=0.15 sec\n",
      " ARIMA(1,0,0)(1,1,0)[7] intercept   : AIC=-827.824, Time=1.41 sec\n",
      " ARIMA(0,0,1)(0,1,1)[7] intercept   : AIC=inf, Time=2.47 sec\n",
      " ARIMA(0,0,0)(0,1,0)[7]             : AIC=-553.584, Time=0.38 sec\n",
      " ARIMA(1,0,0)(0,1,0)[7] intercept   : AIC=-638.174, Time=0.99 sec\n",
      " ARIMA(1,0,0)(2,1,0)[7] intercept   : AIC=-906.591, Time=2.44 sec\n",
      " ARIMA(1,0,0)(2,1,1)[7] intercept   : AIC=inf, Time=4.49 sec\n",
      " ARIMA(1,0,0)(1,1,1)[7] intercept   : AIC=inf, Time=2.44 sec\n",
      " ARIMA(0,0,0)(2,1,0)[7] intercept   : AIC=-809.194, Time=2.05 sec\n",
      " ARIMA(2,0,0)(2,1,0)[7] intercept   : AIC=-909.582, Time=3.76 sec\n",
      " ARIMA(2,0,0)(1,1,0)[7] intercept   : AIC=-831.383, Time=0.95 sec\n",
      " ARIMA(2,0,0)(2,1,1)[7] intercept   : AIC=inf, Time=6.63 sec\n",
      " ARIMA(2,0,0)(1,1,1)[7] intercept   : AIC=inf, Time=3.73 sec\n",
      " ARIMA(3,0,0)(2,1,0)[7] intercept   : AIC=-907.585, Time=4.51 sec\n",
      " ARIMA(2,0,1)(2,1,0)[7] intercept   : AIC=-907.585, Time=9.19 sec\n",
      " ARIMA(1,0,1)(2,1,0)[7] intercept   : AIC=-909.454, Time=4.15 sec\n",
      " ARIMA(3,0,1)(2,1,0)[7] intercept   : AIC=-905.587, Time=4.15 sec\n",
      " ARIMA(2,0,0)(2,1,0)[7]             : AIC=-911.532, Time=1.52 sec\n",
      " ARIMA(2,0,0)(1,1,0)[7]             : AIC=-833.345, Time=0.56 sec\n",
      " ARIMA(2,0,0)(2,1,1)[7]             : AIC=inf, Time=2.85 sec\n",
      " ARIMA(2,0,0)(1,1,1)[7]             : AIC=inf, Time=1.76 sec\n",
      " ARIMA(1,0,0)(2,1,0)[7]             : AIC=-908.533, Time=1.03 sec\n",
      " ARIMA(3,0,0)(2,1,0)[7]             : AIC=-909.535, Time=1.41 sec\n",
      " ARIMA(2,0,1)(2,1,0)[7]             : AIC=-909.535, Time=2.67 sec\n",
      " ARIMA(1,0,1)(2,1,0)[7]             : AIC=-911.405, Time=1.62 sec\n",
      " ARIMA(3,0,1)(2,1,0)[7]             : AIC=-907.537, Time=1.54 sec\n",
      "\n",
      "Best model:  ARIMA(2,0,0)(2,1,0)[7]          \n",
      "Total fit time: 70.831 seconds\n"
     ]
    },
    {
     "name": "stderr",
     "output_type": "stream",
     "text": [
      "/var/folders/py/4rt338cj1ks4z3332m7l3f880000gp/T/ipykernel_38207/2998882079.py:52: FutureWarning: The frame.append method is deprecated and will be removed from pandas in a future version. Use pandas.concat instead.\n",
      "  df_result = df_result.append(row_dict, ignore_index=True)\n"
     ]
    },
    {
     "name": "stdout",
     "output_type": "stream",
     "text": [
      "Entite 1 F2\n",
      "Performing stepwise search to minimize aic\n",
      " ARIMA(1,0,1)(0,1,1)[7] intercept   : AIC=-135.882, Time=2.61 sec\n",
      " ARIMA(0,0,0)(0,1,0)[7] intercept   : AIC=171.930, Time=0.12 sec\n",
      " ARIMA(1,0,0)(1,1,0)[7] intercept   : AIC=18.445, Time=1.48 sec\n",
      " ARIMA(0,0,1)(0,1,1)[7] intercept   : AIC=-98.109, Time=1.02 sec\n",
      " ARIMA(0,0,0)(0,1,0)[7]             : AIC=170.108, Time=0.08 sec\n",
      " ARIMA(1,0,1)(0,1,0)[7] intercept   : AIC=157.823, Time=0.75 sec\n",
      " ARIMA(1,0,1)(1,1,1)[7] intercept   : AIC=-128.798, Time=3.73 sec\n",
      " ARIMA(1,0,1)(0,1,2)[7] intercept   : AIC=-134.635, Time=8.14 sec\n",
      " ARIMA(1,0,1)(1,1,0)[7] intercept   : AIC=20.261, Time=2.16 sec\n",
      " ARIMA(1,0,1)(1,1,2)[7] intercept   : AIC=-133.194, Time=9.34 sec\n",
      " ARIMA(1,0,0)(0,1,1)[7] intercept   : AIC=-104.806, Time=1.05 sec\n",
      " ARIMA(2,0,1)(0,1,1)[7] intercept   : AIC=-126.219, Time=3.55 sec\n",
      " ARIMA(1,0,2)(0,1,1)[7] intercept   : AIC=-143.816, Time=3.75 sec\n",
      " ARIMA(1,0,2)(0,1,0)[7] intercept   : AIC=153.935, Time=1.70 sec\n",
      " ARIMA(1,0,2)(1,1,1)[7] intercept   : AIC=-133.425, Time=4.72 sec\n",
      " ARIMA(1,0,2)(0,1,2)[7] intercept   : AIC=-132.679, Time=6.24 sec\n",
      " ARIMA(1,0,2)(1,1,0)[7] intercept   : AIC=20.161, Time=2.65 sec\n",
      " ARIMA(1,0,2)(1,1,2)[7] intercept   : AIC=-142.058, Time=7.18 sec\n",
      " ARIMA(0,0,2)(0,1,1)[7] intercept   : AIC=-99.879, Time=1.98 sec\n",
      " ARIMA(2,0,2)(0,1,1)[7] intercept   : AIC=-135.874, Time=4.04 sec\n",
      " ARIMA(1,0,3)(0,1,1)[7] intercept   : AIC=-140.448, Time=4.71 sec\n",
      " ARIMA(0,0,3)(0,1,1)[7] intercept   : AIC=-102.801, Time=3.45 sec\n",
      " ARIMA(2,0,3)(0,1,1)[7] intercept   : AIC=-139.757, Time=7.20 sec\n",
      " ARIMA(1,0,2)(0,1,1)[7]             : AIC=-145.571, Time=2.49 sec\n",
      " ARIMA(1,0,2)(0,1,0)[7]             : AIC=152.536, Time=0.97 sec\n",
      " ARIMA(1,0,2)(1,1,1)[7]             : AIC=-145.191, Time=5.45 sec\n",
      " ARIMA(1,0,2)(0,1,2)[7]             : AIC=-145.372, Time=3.02 sec\n",
      " ARIMA(1,0,2)(1,1,0)[7]             : AIC=18.400, Time=1.45 sec\n",
      " ARIMA(1,0,2)(1,1,2)[7]             : AIC=-143.860, Time=3.97 sec\n",
      " ARIMA(0,0,2)(0,1,1)[7]             : AIC=-99.650, Time=0.85 sec\n",
      " ARIMA(1,0,1)(0,1,1)[7]             : AIC=-137.329, Time=0.90 sec\n",
      " ARIMA(2,0,2)(0,1,1)[7]             : AIC=-145.366, Time=2.20 sec\n",
      " ARIMA(1,0,3)(0,1,1)[7]             : AIC=-146.717, Time=1.82 sec\n",
      " ARIMA(1,0,3)(0,1,0)[7]             : AIC=159.909, Time=0.27 sec\n",
      " ARIMA(1,0,3)(1,1,1)[7]             : AIC=-145.662, Time=3.11 sec\n",
      " ARIMA(1,0,3)(0,1,2)[7]             : AIC=-145.792, Time=4.16 sec\n",
      " ARIMA(1,0,3)(1,1,0)[7]             : AIC=20.004, Time=1.38 sec\n",
      " ARIMA(1,0,3)(1,1,2)[7]             : AIC=-144.372, Time=5.74 sec\n",
      " ARIMA(0,0,3)(0,1,1)[7]             : AIC=-102.634, Time=1.55 sec\n",
      " ARIMA(2,0,3)(0,1,1)[7]             : AIC=-146.123, Time=3.70 sec\n",
      "\n",
      "Best model:  ARIMA(1,0,3)(0,1,1)[7]          \n",
      "Total fit time: 124.722 seconds\n"
     ]
    },
    {
     "name": "stderr",
     "output_type": "stream",
     "text": [
      "/var/folders/py/4rt338cj1ks4z3332m7l3f880000gp/T/ipykernel_38207/2998882079.py:52: FutureWarning: The frame.append method is deprecated and will be removed from pandas in a future version. Use pandas.concat instead.\n",
      "  df_result = df_result.append(row_dict, ignore_index=True)\n"
     ]
    },
    {
     "name": "stdout",
     "output_type": "stream",
     "text": [
      "Entite 2 F2\n",
      "Performing stepwise search to minimize aic\n",
      " ARIMA(1,0,1)(0,1,1)[7] intercept   : AIC=inf, Time=2.98 sec\n",
      " ARIMA(0,0,0)(0,1,0)[7] intercept   : AIC=45.890, Time=0.16 sec\n",
      " ARIMA(1,0,0)(1,1,0)[7] intercept   : AIC=-150.794, Time=1.03 sec\n",
      " ARIMA(0,0,1)(0,1,1)[7] intercept   : AIC=-348.557, Time=2.98 sec\n",
      " ARIMA(0,0,0)(0,1,0)[7]             : AIC=43.992, Time=0.09 sec\n",
      " ARIMA(0,0,1)(0,1,0)[7] intercept   : AIC=42.528, Time=0.86 sec\n",
      " ARIMA(0,0,1)(1,1,1)[7] intercept   : AIC=-346.561, Time=1.84 sec\n",
      " ARIMA(0,0,1)(0,1,2)[7] intercept   : AIC=-346.561, Time=3.93 sec\n",
      " ARIMA(0,0,1)(1,1,0)[7] intercept   : AIC=-149.640, Time=0.84 sec\n",
      " ARIMA(0,0,1)(1,1,2)[7] intercept   : AIC=-344.568, Time=3.80 sec\n",
      " ARIMA(0,0,0)(0,1,1)[7] intercept   : AIC=-326.913, Time=0.87 sec\n",
      " ARIMA(0,0,2)(0,1,1)[7] intercept   : AIC=-350.673, Time=2.66 sec\n",
      " ARIMA(0,0,2)(0,1,0)[7] intercept   : AIC=44.086, Time=1.07 sec\n",
      " ARIMA(0,0,2)(1,1,1)[7] intercept   : AIC=-348.674, Time=3.86 sec\n",
      " ARIMA(0,0,2)(0,1,2)[7] intercept   : AIC=-348.674, Time=4.53 sec\n",
      " ARIMA(0,0,2)(1,1,0)[7] intercept   : AIC=-149.572, Time=1.41 sec\n",
      " ARIMA(0,0,2)(1,1,2)[7] intercept   : AIC=-346.674, Time=5.90 sec\n",
      " ARIMA(1,0,2)(0,1,1)[7] intercept   : AIC=-345.995, Time=3.78 sec\n",
      " ARIMA(0,0,3)(0,1,1)[7] intercept   : AIC=-354.405, Time=3.74 sec\n",
      " ARIMA(0,0,3)(0,1,0)[7] intercept   : AIC=46.075, Time=0.67 sec\n",
      " ARIMA(0,0,3)(1,1,1)[7] intercept   : AIC=-352.444, Time=4.66 sec\n",
      " ARIMA(0,0,3)(0,1,2)[7] intercept   : AIC=-352.444, Time=6.45 sec\n",
      " ARIMA(0,0,3)(1,1,0)[7] intercept   : AIC=-148.690, Time=1.15 sec\n",
      " ARIMA(0,0,3)(1,1,2)[7] intercept   : AIC=-350.443, Time=5.84 sec\n",
      " ARIMA(1,0,3)(0,1,1)[7] intercept   : AIC=-367.035, Time=5.61 sec\n",
      " ARIMA(1,0,3)(0,1,0)[7] intercept   : AIC=48.080, Time=1.04 sec\n",
      " ARIMA(1,0,3)(1,1,1)[7] intercept   : AIC=-371.255, Time=6.76 sec\n",
      " ARIMA(1,0,3)(1,1,0)[7] intercept   : AIC=-147.618, Time=5.26 sec\n",
      " ARIMA(1,0,3)(2,1,1)[7] intercept   : AIC=-352.079, Time=7.06 sec\n",
      " ARIMA(1,0,3)(1,1,2)[7] intercept   : AIC=inf, Time=8.05 sec\n",
      " ARIMA(1,0,3)(0,1,2)[7] intercept   : AIC=-352.903, Time=7.66 sec\n",
      " ARIMA(1,0,3)(2,1,0)[7] intercept   : AIC=-231.638, Time=5.85 sec\n",
      " ARIMA(1,0,3)(2,1,2)[7] intercept   : AIC=-365.410, Time=9.26 sec\n",
      " ARIMA(1,0,2)(1,1,1)[7] intercept   : AIC=-354.461, Time=5.70 sec\n",
      " ARIMA(2,0,3)(1,1,1)[7] intercept   : AIC=inf, Time=8.47 sec\n",
      " ARIMA(2,0,2)(1,1,1)[7] intercept   : AIC=inf, Time=6.20 sec\n",
      " ARIMA(1,0,3)(1,1,1)[7]             : AIC=inf, Time=3.75 sec\n",
      "\n",
      "Best model:  ARIMA(1,0,3)(1,1,1)[7] intercept\n",
      "Total fit time: 145.817 seconds\n"
     ]
    },
    {
     "name": "stderr",
     "output_type": "stream",
     "text": [
      "/var/folders/py/4rt338cj1ks4z3332m7l3f880000gp/T/ipykernel_38207/2998882079.py:52: FutureWarning: The frame.append method is deprecated and will be removed from pandas in a future version. Use pandas.concat instead.\n",
      "  df_result = df_result.append(row_dict, ignore_index=True)\n"
     ]
    },
    {
     "name": "stdout",
     "output_type": "stream",
     "text": [
      "Entite 3 F2\n",
      "Performing stepwise search to minimize aic\n",
      " ARIMA(1,0,1)(0,1,1)[7] intercept   : AIC=inf, Time=3.13 sec\n",
      " ARIMA(0,0,0)(0,1,0)[7] intercept   : AIC=168.190, Time=0.14 sec\n",
      " ARIMA(1,0,0)(1,1,0)[7] intercept   : AIC=-9.450, Time=1.53 sec\n",
      " ARIMA(0,0,1)(0,1,1)[7] intercept   : AIC=-181.931, Time=1.31 sec\n",
      " ARIMA(0,0,0)(0,1,0)[7]             : AIC=166.204, Time=0.06 sec\n",
      " ARIMA(0,0,1)(0,1,0)[7] intercept   : AIC=167.315, Time=0.44 sec\n",
      " ARIMA(0,0,1)(1,1,1)[7] intercept   : AIC=inf, Time=3.60 sec\n",
      " ARIMA(0,0,1)(0,1,2)[7] intercept   : AIC=inf, Time=6.23 sec\n",
      " ARIMA(0,0,1)(1,1,0)[7] intercept   : AIC=-8.466, Time=0.90 sec\n",
      " ARIMA(0,0,1)(1,1,2)[7] intercept   : AIC=inf, Time=5.51 sec\n",
      " ARIMA(0,0,0)(0,1,1)[7] intercept   : AIC=-172.968, Time=1.38 sec\n",
      " ARIMA(0,0,2)(0,1,1)[7] intercept   : AIC=-187.668, Time=2.21 sec\n",
      " ARIMA(0,0,2)(0,1,0)[7] intercept   : AIC=165.208, Time=0.35 sec\n",
      " ARIMA(0,0,2)(1,1,1)[7] intercept   : AIC=inf, Time=4.02 sec\n",
      " ARIMA(0,0,2)(0,1,2)[7] intercept   : AIC=inf, Time=5.53 sec\n",
      " ARIMA(0,0,2)(1,1,0)[7] intercept   : AIC=-10.325, Time=0.87 sec\n",
      " ARIMA(0,0,2)(1,1,2)[7] intercept   : AIC=inf, Time=6.32 sec\n",
      " ARIMA(1,0,2)(0,1,1)[7] intercept   : AIC=inf, Time=4.76 sec\n",
      " ARIMA(0,0,3)(0,1,1)[7] intercept   : AIC=-187.653, Time=2.47 sec\n",
      " ARIMA(1,0,3)(0,1,1)[7] intercept   : AIC=-195.091, Time=4.89 sec\n",
      " ARIMA(1,0,3)(0,1,0)[7] intercept   : AIC=147.468, Time=3.74 sec\n",
      " ARIMA(1,0,3)(1,1,1)[7] intercept   : AIC=inf, Time=4.78 sec\n",
      " ARIMA(1,0,3)(0,1,2)[7] intercept   : AIC=inf, Time=12.57 sec\n",
      " ARIMA(1,0,3)(1,1,0)[7] intercept   : AIC=-9.254, Time=6.97 sec\n",
      " ARIMA(1,0,3)(1,1,2)[7] intercept   : AIC=-183.457, Time=10.55 sec\n",
      " ARIMA(2,0,3)(0,1,1)[7] intercept   : AIC=inf, Time=9.42 sec\n",
      " ARIMA(2,0,2)(0,1,1)[7] intercept   : AIC=inf, Time=5.92 sec\n",
      " ARIMA(1,0,3)(0,1,1)[7]             : AIC=inf, Time=3.95 sec\n",
      "\n",
      "Best model:  ARIMA(1,0,3)(0,1,1)[7] intercept\n",
      "Total fit time: 113.587 seconds\n"
     ]
    },
    {
     "name": "stderr",
     "output_type": "stream",
     "text": [
      "/var/folders/py/4rt338cj1ks4z3332m7l3f880000gp/T/ipykernel_38207/2998882079.py:52: FutureWarning: The frame.append method is deprecated and will be removed from pandas in a future version. Use pandas.concat instead.\n",
      "  df_result = df_result.append(row_dict, ignore_index=True)\n"
     ]
    },
    {
     "name": "stdout",
     "output_type": "stream",
     "text": [
      "Entite 4 F2\n",
      "Entite 5 F2\n",
      "Performing stepwise search to minimize aic\n",
      " ARIMA(1,0,1)(0,1,1)[7] intercept   : AIC=inf, Time=4.73 sec\n",
      " ARIMA(0,0,0)(0,1,0)[7] intercept   : AIC=-551.786, Time=0.30 sec\n",
      " ARIMA(1,0,0)(1,1,0)[7] intercept   : AIC=-732.348, Time=1.66 sec\n",
      " ARIMA(0,0,1)(0,1,1)[7] intercept   : AIC=-912.315, Time=1.80 sec\n",
      " ARIMA(0,0,0)(0,1,0)[7]             : AIC=-553.743, Time=0.16 sec\n",
      " ARIMA(0,0,1)(0,1,0)[7] intercept   : AIC=-549.934, Time=0.54 sec\n",
      " ARIMA(0,0,1)(1,1,1)[7] intercept   : AIC=-910.701, Time=2.42 sec\n",
      " ARIMA(0,0,1)(0,1,2)[7] intercept   : AIC=-910.697, Time=4.63 sec\n",
      " ARIMA(0,0,1)(1,1,0)[7] intercept   : AIC=-732.056, Time=1.03 sec\n",
      " ARIMA(0,0,1)(1,1,2)[7] intercept   : AIC=-908.872, Time=6.85 sec\n",
      " ARIMA(0,0,0)(0,1,1)[7] intercept   : AIC=-906.366, Time=1.10 sec\n",
      " ARIMA(0,0,2)(0,1,1)[7] intercept   : AIC=-914.391, Time=4.31 sec\n",
      " ARIMA(0,0,2)(0,1,0)[7] intercept   : AIC=-548.616, Time=1.59 sec\n",
      " ARIMA(0,0,2)(1,1,1)[7] intercept   : AIC=-912.822, Time=6.10 sec\n",
      " ARIMA(0,0,2)(0,1,2)[7] intercept   : AIC=-912.816, Time=5.52 sec\n",
      " ARIMA(0,0,2)(1,1,0)[7] intercept   : AIC=-731.237, Time=1.40 sec\n",
      " ARIMA(0,0,2)(1,1,2)[7] intercept   : AIC=-911.015, Time=4.14 sec\n",
      " ARIMA(1,0,2)(0,1,1)[7] intercept   : AIC=inf, Time=7.48 sec\n",
      " ARIMA(0,0,3)(0,1,1)[7] intercept   : AIC=-919.010, Time=5.23 sec\n",
      " ARIMA(0,0,3)(0,1,0)[7] intercept   : AIC=-546.679, Time=0.97 sec\n",
      " ARIMA(0,0,3)(1,1,1)[7] intercept   : AIC=-917.287, Time=5.37 sec\n",
      " ARIMA(0,0,3)(0,1,2)[7] intercept   : AIC=-917.285, Time=9.70 sec\n",
      " ARIMA(0,0,3)(1,1,0)[7] intercept   : AIC=-730.125, Time=3.54 sec\n",
      " ARIMA(0,0,3)(1,1,2)[7] intercept   : AIC=-915.424, Time=11.02 sec\n",
      " ARIMA(1,0,3)(0,1,1)[7] intercept   : AIC=-919.211, Time=7.31 sec\n",
      " ARIMA(1,0,3)(0,1,0)[7] intercept   : AIC=-556.848, Time=3.27 sec\n",
      " ARIMA(1,0,3)(1,1,1)[7] intercept   : AIC=-909.743, Time=6.48 sec\n",
      " ARIMA(1,0,3)(0,1,2)[7] intercept   : AIC=-909.761, Time=12.95 sec\n",
      " ARIMA(1,0,3)(1,1,0)[7] intercept   : AIC=-728.311, Time=6.70 sec\n",
      " ARIMA(1,0,3)(1,1,2)[7] intercept   : AIC=-907.931, Time=9.12 sec\n",
      " ARIMA(2,0,3)(0,1,1)[7] intercept   : AIC=inf, Time=3.85 sec\n",
      " ARIMA(2,0,2)(0,1,1)[7] intercept   : AIC=inf, Time=3.86 sec\n",
      " ARIMA(1,0,3)(0,1,1)[7]             : AIC=inf, Time=3.01 sec\n",
      "\n",
      "Best model:  ARIMA(1,0,3)(0,1,1)[7] intercept\n",
      "Total fit time: 148.190 seconds\n"
     ]
    },
    {
     "name": "stderr",
     "output_type": "stream",
     "text": [
      "/var/folders/py/4rt338cj1ks4z3332m7l3f880000gp/T/ipykernel_38207/2998882079.py:52: FutureWarning: The frame.append method is deprecated and will be removed from pandas in a future version. Use pandas.concat instead.\n",
      "  df_result = df_result.append(row_dict, ignore_index=True)\n"
     ]
    },
    {
     "name": "stdout",
     "output_type": "stream",
     "text": [
      "Entite 1 F3\n",
      "Performing stepwise search to minimize aic\n",
      " ARIMA(1,0,1)(0,1,1)[7] intercept   : AIC=inf, Time=3.70 sec\n",
      " ARIMA(0,0,0)(0,1,0)[7] intercept   : AIC=484.998, Time=0.13 sec\n",
      " ARIMA(1,0,0)(1,1,0)[7] intercept   : AIC=338.263, Time=0.77 sec\n",
      " ARIMA(0,0,1)(0,1,1)[7] intercept   : AIC=inf, Time=1.33 sec\n",
      " ARIMA(0,0,0)(0,1,0)[7]             : AIC=483.018, Time=0.05 sec\n",
      " ARIMA(1,0,0)(0,1,0)[7] intercept   : AIC=475.298, Time=0.15 sec\n",
      " ARIMA(1,0,0)(2,1,0)[7] intercept   : AIC=221.832, Time=1.83 sec\n",
      " ARIMA(1,0,0)(2,1,1)[7] intercept   : AIC=inf, Time=13.89 sec\n",
      " ARIMA(1,0,0)(1,1,1)[7] intercept   : AIC=inf, Time=6.33 sec\n",
      " ARIMA(0,0,0)(2,1,0)[7] intercept   : AIC=236.578, Time=5.84 sec\n",
      " ARIMA(2,0,0)(2,1,0)[7] intercept   : AIC=213.713, Time=5.18 sec\n",
      " ARIMA(2,0,0)(1,1,0)[7] intercept   : AIC=328.163, Time=1.74 sec\n",
      " ARIMA(2,0,0)(2,1,1)[7] intercept   : AIC=inf, Time=21.63 sec\n",
      " ARIMA(2,0,0)(1,1,1)[7] intercept   : AIC=inf, Time=16.29 sec\n",
      " ARIMA(3,0,0)(2,1,0)[7] intercept   : AIC=207.171, Time=5.07 sec\n",
      " ARIMA(3,0,0)(1,1,0)[7] intercept   : AIC=325.606, Time=2.00 sec\n",
      " ARIMA(3,0,0)(2,1,1)[7] intercept   : AIC=inf, Time=11.68 sec\n",
      " ARIMA(3,0,0)(1,1,1)[7] intercept   : AIC=inf, Time=7.01 sec\n",
      " ARIMA(3,0,1)(2,1,0)[7] intercept   : AIC=207.861, Time=6.15 sec\n",
      " ARIMA(2,0,1)(2,1,0)[7] intercept   : AIC=207.921, Time=13.27 sec\n",
      " ARIMA(3,0,0)(2,1,0)[7]             : AIC=205.177, Time=1.67 sec\n",
      " ARIMA(3,0,0)(1,1,0)[7]             : AIC=323.616, Time=0.83 sec\n",
      " ARIMA(3,0,0)(2,1,1)[7]             : AIC=inf, Time=3.61 sec\n",
      " ARIMA(3,0,0)(1,1,1)[7]             : AIC=inf, Time=2.77 sec\n",
      " ARIMA(2,0,0)(2,1,0)[7]             : AIC=211.721, Time=4.82 sec\n",
      " ARIMA(3,0,1)(2,1,0)[7]             : AIC=205.868, Time=5.03 sec\n",
      " ARIMA(2,0,1)(2,1,0)[7]             : AIC=205.929, Time=3.17 sec\n",
      "\n",
      "Best model:  ARIMA(3,0,0)(2,1,0)[7]          \n",
      "Total fit time: 145.988 seconds\n"
     ]
    },
    {
     "name": "stderr",
     "output_type": "stream",
     "text": [
      "/var/folders/py/4rt338cj1ks4z3332m7l3f880000gp/T/ipykernel_38207/2998882079.py:52: FutureWarning: The frame.append method is deprecated and will be removed from pandas in a future version. Use pandas.concat instead.\n",
      "  df_result = df_result.append(row_dict, ignore_index=True)\n"
     ]
    },
    {
     "name": "stdout",
     "output_type": "stream",
     "text": [
      "Entite 2 F3\n",
      "Performing stepwise search to minimize aic\n",
      " ARIMA(1,0,1)(0,1,1)[7] intercept   : AIC=inf, Time=4.04 sec\n",
      " ARIMA(0,0,0)(0,1,0)[7] intercept   : AIC=494.918, Time=0.08 sec\n",
      " ARIMA(1,0,0)(1,1,0)[7] intercept   : AIC=318.711, Time=0.78 sec\n",
      " ARIMA(0,0,1)(0,1,1)[7] intercept   : AIC=inf, Time=2.60 sec\n",
      " ARIMA(0,0,0)(0,1,0)[7]             : AIC=492.922, Time=0.09 sec\n",
      " ARIMA(1,0,0)(0,1,0)[7] intercept   : AIC=468.023, Time=0.36 sec\n",
      " ARIMA(1,0,0)(2,1,0)[7] intercept   : AIC=211.702, Time=5.43 sec\n",
      " ARIMA(1,0,0)(2,1,1)[7] intercept   : AIC=inf, Time=8.90 sec\n",
      " ARIMA(1,0,0)(1,1,1)[7] intercept   : AIC=inf, Time=5.31 sec\n",
      " ARIMA(0,0,0)(2,1,0)[7] intercept   : AIC=257.268, Time=2.30 sec\n",
      " ARIMA(2,0,0)(2,1,0)[7] intercept   : AIC=204.070, Time=5.72 sec\n",
      " ARIMA(2,0,0)(1,1,0)[7] intercept   : AIC=313.758, Time=3.00 sec\n",
      " ARIMA(2,0,0)(2,1,1)[7] intercept   : AIC=inf, Time=17.31 sec\n",
      " ARIMA(2,0,0)(1,1,1)[7] intercept   : AIC=inf, Time=3.52 sec\n",
      " ARIMA(3,0,0)(2,1,0)[7] intercept   : AIC=195.858, Time=2.73 sec\n",
      " ARIMA(3,0,0)(1,1,0)[7] intercept   : AIC=307.134, Time=1.59 sec\n",
      " ARIMA(3,0,0)(2,1,1)[7] intercept   : AIC=inf, Time=7.69 sec\n",
      " ARIMA(3,0,0)(1,1,1)[7] intercept   : AIC=inf, Time=7.88 sec\n",
      " ARIMA(3,0,1)(2,1,0)[7] intercept   : AIC=197.720, Time=5.74 sec\n",
      " ARIMA(2,0,1)(2,1,0)[7] intercept   : AIC=198.927, Time=6.08 sec\n",
      " ARIMA(3,0,0)(2,1,0)[7]             : AIC=193.865, Time=1.39 sec\n",
      " ARIMA(3,0,0)(1,1,0)[7]             : AIC=305.134, Time=1.07 sec\n",
      " ARIMA(3,0,0)(2,1,1)[7]             : AIC=inf, Time=1.87 sec\n",
      " ARIMA(3,0,0)(1,1,1)[7]             : AIC=inf, Time=1.63 sec\n",
      " ARIMA(2,0,0)(2,1,0)[7]             : AIC=202.080, Time=0.61 sec\n",
      " ARIMA(3,0,1)(2,1,0)[7]             : AIC=195.726, Time=1.18 sec\n",
      " ARIMA(2,0,1)(2,1,0)[7]             : AIC=196.933, Time=2.00 sec\n",
      "\n",
      "Best model:  ARIMA(3,0,0)(2,1,0)[7]          \n",
      "Total fit time: 100.953 seconds\n"
     ]
    },
    {
     "name": "stderr",
     "output_type": "stream",
     "text": [
      "/var/folders/py/4rt338cj1ks4z3332m7l3f880000gp/T/ipykernel_38207/2998882079.py:52: FutureWarning: The frame.append method is deprecated and will be removed from pandas in a future version. Use pandas.concat instead.\n",
      "  df_result = df_result.append(row_dict, ignore_index=True)\n"
     ]
    },
    {
     "name": "stdout",
     "output_type": "stream",
     "text": [
      "Entite 3 F3\n",
      "Entite 4 F3\n",
      "Entite 5 F3\n",
      "Performing stepwise search to minimize aic\n",
      " ARIMA(1,0,1)(0,1,1)[7] intercept   : AIC=inf, Time=3.84 sec\n",
      " ARIMA(0,0,0)(0,1,0)[7] intercept   : AIC=44.874, Time=0.16 sec\n",
      " ARIMA(1,0,0)(1,1,0)[7] intercept   : AIC=-176.048, Time=0.98 sec\n",
      " ARIMA(0,0,1)(0,1,1)[7] intercept   : AIC=inf, Time=2.34 sec\n",
      " ARIMA(0,0,0)(0,1,0)[7]             : AIC=42.878, Time=0.11 sec\n",
      " ARIMA(1,0,0)(0,1,0)[7] intercept   : AIC=-4.061, Time=0.26 sec\n",
      " ARIMA(1,0,0)(2,1,0)[7] intercept   : AIC=-297.810, Time=2.68 sec\n",
      " ARIMA(1,0,0)(2,1,1)[7] intercept   : AIC=inf, Time=4.85 sec\n",
      " ARIMA(1,0,0)(1,1,1)[7] intercept   : AIC=inf, Time=2.96 sec\n",
      " ARIMA(0,0,0)(2,1,0)[7] intercept   : AIC=-226.124, Time=1.66 sec\n",
      " ARIMA(2,0,0)(2,1,0)[7] intercept   : AIC=-300.011, Time=2.21 sec\n",
      " ARIMA(2,0,0)(1,1,0)[7] intercept   : AIC=-178.250, Time=1.00 sec\n",
      " ARIMA(2,0,0)(2,1,1)[7] intercept   : AIC=inf, Time=6.50 sec\n",
      " ARIMA(2,0,0)(1,1,1)[7] intercept   : AIC=inf, Time=2.81 sec\n",
      " ARIMA(3,0,0)(2,1,0)[7] intercept   : AIC=-298.350, Time=2.82 sec\n",
      " ARIMA(2,0,1)(2,1,0)[7] intercept   : AIC=-298.518, Time=5.48 sec\n",
      " ARIMA(1,0,1)(2,1,0)[7] intercept   : AIC=-300.454, Time=2.63 sec\n",
      " ARIMA(1,0,1)(1,1,0)[7] intercept   : AIC=-178.549, Time=1.81 sec\n",
      " ARIMA(1,0,1)(2,1,1)[7] intercept   : AIC=inf, Time=6.18 sec\n",
      " ARIMA(1,0,1)(1,1,1)[7] intercept   : AIC=inf, Time=3.32 sec\n",
      " ARIMA(0,0,1)(2,1,0)[7] intercept   : AIC=-283.900, Time=2.45 sec\n",
      " ARIMA(1,0,2)(2,1,0)[7] intercept   : AIC=-298.513, Time=4.43 sec\n",
      " ARIMA(0,0,2)(2,1,0)[7] intercept   : AIC=-295.436, Time=2.48 sec\n",
      " ARIMA(2,0,2)(2,1,0)[7] intercept   : AIC=-296.484, Time=4.39 sec\n",
      " ARIMA(1,0,1)(2,1,0)[7]             : AIC=-302.445, Time=1.57 sec\n",
      " ARIMA(1,0,1)(1,1,0)[7]             : AIC=-180.549, Time=1.14 sec\n",
      " ARIMA(1,0,1)(2,1,1)[7]             : AIC=inf, Time=2.75 sec\n",
      " ARIMA(1,0,1)(1,1,1)[7]             : AIC=inf, Time=1.90 sec\n",
      " ARIMA(0,0,1)(2,1,0)[7]             : AIC=-285.885, Time=0.96 sec\n",
      " ARIMA(1,0,0)(2,1,0)[7]             : AIC=-299.798, Time=0.75 sec\n",
      " ARIMA(2,0,1)(2,1,0)[7]             : AIC=-300.509, Time=2.08 sec\n",
      " ARIMA(1,0,2)(2,1,0)[7]             : AIC=-300.503, Time=1.50 sec\n",
      " ARIMA(0,0,0)(2,1,0)[7]             : AIC=-228.105, Time=0.66 sec\n",
      " ARIMA(0,0,2)(2,1,0)[7]             : AIC=-297.423, Time=0.79 sec\n",
      " ARIMA(2,0,0)(2,1,0)[7]             : AIC=-302.000, Time=0.69 sec\n",
      " ARIMA(2,0,2)(2,1,0)[7]             : AIC=-298.475, Time=1.69 sec\n",
      "\n",
      "Best model:  ARIMA(1,0,1)(2,1,0)[7]          \n",
      "Total fit time: 84.886 seconds\n"
     ]
    },
    {
     "name": "stderr",
     "output_type": "stream",
     "text": [
      "/var/folders/py/4rt338cj1ks4z3332m7l3f880000gp/T/ipykernel_38207/2998882079.py:52: FutureWarning: The frame.append method is deprecated and will be removed from pandas in a future version. Use pandas.concat instead.\n",
      "  df_result = df_result.append(row_dict, ignore_index=True)\n"
     ]
    },
    {
     "name": "stdout",
     "output_type": "stream",
     "text": [
      "Entite 1 F5\n",
      "Performing stepwise search to minimize aic\n",
      " ARIMA(1,0,1)(0,1,1)[7] intercept   : AIC=-167.680, Time=3.82 sec\n",
      " ARIMA(0,0,0)(0,1,0)[7] intercept   : AIC=253.752, Time=0.20 sec\n",
      " ARIMA(1,0,0)(1,1,0)[7] intercept   : AIC=42.918, Time=1.14 sec\n",
      " ARIMA(0,0,1)(0,1,1)[7] intercept   : AIC=-164.482, Time=2.32 sec\n",
      " ARIMA(0,0,0)(0,1,0)[7]             : AIC=252.141, Time=0.07 sec\n",
      " ARIMA(1,0,1)(0,1,0)[7] intercept   : AIC=255.206, Time=0.61 sec\n",
      " ARIMA(1,0,1)(1,1,1)[7] intercept   : AIC=-170.457, Time=3.56 sec\n",
      " ARIMA(1,0,1)(1,1,0)[7] intercept   : AIC=44.619, Time=1.76 sec\n",
      " ARIMA(1,0,1)(2,1,1)[7] intercept   : AIC=-161.285, Time=6.56 sec\n",
      " ARIMA(1,0,1)(1,1,2)[7] intercept   : AIC=-164.460, Time=19.74 sec\n",
      " ARIMA(1,0,1)(0,1,2)[7] intercept   : AIC=-165.152, Time=8.59 sec\n",
      " ARIMA(1,0,1)(2,1,0)[7] intercept   : AIC=-47.959, Time=4.06 sec\n",
      " ARIMA(1,0,1)(2,1,2)[7] intercept   : AIC=-165.642, Time=6.96 sec\n",
      " ARIMA(0,0,1)(1,1,1)[7] intercept   : AIC=-162.974, Time=1.20 sec\n",
      " ARIMA(1,0,0)(1,1,1)[7] intercept   : AIC=-163.706, Time=2.18 sec\n",
      " ARIMA(2,0,1)(1,1,1)[7] intercept   : AIC=-164.596, Time=3.48 sec\n",
      " ARIMA(1,0,2)(1,1,1)[7] intercept   : AIC=-165.231, Time=2.75 sec\n",
      " ARIMA(0,0,0)(1,1,1)[7] intercept   : AIC=-160.301, Time=1.05 sec\n",
      " ARIMA(0,0,2)(1,1,1)[7] intercept   : AIC=-165.836, Time=2.36 sec\n",
      " ARIMA(2,0,0)(1,1,1)[7] intercept   : AIC=-165.266, Time=2.48 sec\n",
      " ARIMA(2,0,2)(1,1,1)[7] intercept   : AIC=-166.238, Time=5.63 sec\n",
      " ARIMA(1,0,1)(1,1,1)[7]             : AIC=-170.652, Time=2.48 sec\n",
      " ARIMA(1,0,1)(0,1,1)[7]             : AIC=-171.562, Time=1.53 sec\n",
      " ARIMA(1,0,1)(0,1,0)[7]             : AIC=253.545, Time=0.31 sec\n",
      " ARIMA(1,0,1)(0,1,2)[7]             : AIC=-170.702, Time=3.75 sec\n",
      " ARIMA(1,0,1)(1,1,0)[7]             : AIC=43.511, Time=0.62 sec\n",
      " ARIMA(1,0,1)(1,1,2)[7]             : AIC=inf, Time=4.83 sec\n",
      " ARIMA(0,0,1)(0,1,1)[7]             : AIC=-152.432, Time=0.42 sec\n",
      " ARIMA(1,0,0)(0,1,1)[7]             : AIC=-153.450, Time=0.57 sec\n",
      " ARIMA(2,0,1)(0,1,1)[7]             : AIC=-155.285, Time=1.06 sec\n",
      " ARIMA(1,0,2)(0,1,1)[7]             : AIC=-155.651, Time=1.07 sec\n",
      " ARIMA(0,0,0)(0,1,1)[7]             : AIC=-148.720, Time=0.47 sec\n",
      " ARIMA(0,0,2)(0,1,1)[7]             : AIC=-156.495, Time=0.80 sec\n",
      " ARIMA(2,0,0)(0,1,1)[7]             : AIC=-156.072, Time=0.56 sec\n",
      " ARIMA(2,0,2)(0,1,1)[7]             : AIC=-158.886, Time=3.31 sec\n",
      "\n",
      "Best model:  ARIMA(1,0,1)(0,1,1)[7]          \n",
      "Total fit time: 102.345 seconds\n"
     ]
    },
    {
     "name": "stderr",
     "output_type": "stream",
     "text": [
      "/var/folders/py/4rt338cj1ks4z3332m7l3f880000gp/T/ipykernel_38207/2998882079.py:52: FutureWarning: The frame.append method is deprecated and will be removed from pandas in a future version. Use pandas.concat instead.\n",
      "  df_result = df_result.append(row_dict, ignore_index=True)\n"
     ]
    },
    {
     "name": "stdout",
     "output_type": "stream",
     "text": [
      "Entite 2 F5\n",
      "Entite 3 F5\n",
      "Performing stepwise search to minimize aic\n",
      " ARIMA(1,0,1)(0,1,1)[7] intercept   : AIC=-254.739, Time=2.30 sec\n",
      " ARIMA(0,0,0)(0,1,0)[7] intercept   : AIC=81.993, Time=0.17 sec\n",
      " ARIMA(1,0,0)(1,1,0)[7] intercept   : AIC=-96.982, Time=1.03 sec\n",
      " ARIMA(0,0,1)(0,1,1)[7] intercept   : AIC=-241.650, Time=1.79 sec\n",
      " ARIMA(0,0,0)(0,1,0)[7]             : AIC=80.143, Time=0.08 sec\n",
      " ARIMA(1,0,1)(0,1,0)[7] intercept   : AIC=52.598, Time=0.48 sec\n",
      " ARIMA(1,0,1)(1,1,1)[7] intercept   : AIC=-259.977, Time=3.21 sec\n",
      " ARIMA(1,0,1)(1,1,0)[7] intercept   : AIC=-94.999, Time=1.41 sec\n",
      " ARIMA(1,0,1)(2,1,1)[7] intercept   : AIC=-258.897, Time=4.62 sec\n",
      " ARIMA(1,0,1)(1,1,2)[7] intercept   : AIC=-255.391, Time=5.46 sec\n",
      " ARIMA(1,0,1)(0,1,2)[7] intercept   : AIC=-259.359, Time=5.34 sec\n",
      " ARIMA(1,0,1)(2,1,0)[7] intercept   : AIC=-161.709, Time=2.69 sec\n",
      " ARIMA(1,0,1)(2,1,2)[7] intercept   : AIC=-255.977, Time=7.43 sec\n",
      " ARIMA(0,0,1)(1,1,1)[7] intercept   : AIC=-249.552, Time=2.24 sec\n",
      " ARIMA(1,0,0)(1,1,1)[7] intercept   : AIC=-260.735, Time=2.88 sec\n",
      " ARIMA(1,0,0)(0,1,1)[7] intercept   : AIC=-254.874, Time=0.97 sec\n",
      " ARIMA(1,0,0)(2,1,1)[7] intercept   : AIC=-259.823, Time=6.32 sec\n",
      " ARIMA(1,0,0)(1,1,2)[7] intercept   : AIC=-259.691, Time=5.47 sec\n",
      " ARIMA(1,0,0)(0,1,0)[7] intercept   : AIC=50.938, Time=0.14 sec\n",
      " ARIMA(1,0,0)(0,1,2)[7] intercept   : AIC=-260.006, Time=4.97 sec\n",
      " ARIMA(1,0,0)(2,1,0)[7] intercept   : AIC=-163.041, Time=1.81 sec\n",
      " ARIMA(1,0,0)(2,1,2)[7] intercept   : AIC=-256.739, Time=7.37 sec\n",
      " ARIMA(0,0,0)(1,1,1)[7] intercept   : AIC=-181.398, Time=1.74 sec\n",
      " ARIMA(2,0,0)(1,1,1)[7] intercept   : AIC=-259.598, Time=2.53 sec\n",
      " ARIMA(2,0,1)(1,1,1)[7] intercept   : AIC=-268.919, Time=3.95 sec\n",
      " ARIMA(2,0,1)(0,1,1)[7] intercept   : AIC=-274.363, Time=5.34 sec\n",
      " ARIMA(2,0,1)(0,1,0)[7] intercept   : AIC=inf, Time=5.09 sec\n",
      " ARIMA(2,0,1)(0,1,2)[7] intercept   : AIC=-270.892, Time=9.98 sec\n",
      " ARIMA(2,0,1)(1,1,0)[7] intercept   : AIC=-93.174, Time=2.73 sec\n",
      " ARIMA(2,0,1)(1,1,2)[7] intercept   : AIC=-271.737, Time=9.97 sec\n",
      " ARIMA(2,0,0)(0,1,1)[7] intercept   : AIC=-254.099, Time=2.24 sec\n",
      " ARIMA(3,0,1)(0,1,1)[7] intercept   : AIC=-266.621, Time=4.10 sec\n",
      " ARIMA(2,0,2)(0,1,1)[7] intercept   : AIC=-258.463, Time=3.98 sec\n",
      " ARIMA(1,0,2)(0,1,1)[7] intercept   : AIC=-277.034, Time=5.26 sec\n",
      " ARIMA(1,0,2)(0,1,0)[7] intercept   : AIC=54.571, Time=1.46 sec\n",
      " ARIMA(1,0,2)(1,1,1)[7] intercept   : AIC=-272.002, Time=4.33 sec\n",
      " ARIMA(1,0,2)(0,1,2)[7] intercept   : AIC=-269.871, Time=5.74 sec\n",
      " ARIMA(1,0,2)(1,1,0)[7] intercept   : AIC=-93.117, Time=2.71 sec\n",
      " ARIMA(1,0,2)(1,1,2)[7] intercept   : AIC=-264.670, Time=6.54 sec\n",
      " ARIMA(0,0,2)(0,1,1)[7] intercept   : AIC=-248.878, Time=1.62 sec\n",
      " ARIMA(1,0,3)(0,1,1)[7] intercept   : AIC=-265.441, Time=3.34 sec\n",
      " ARIMA(0,0,3)(0,1,1)[7] intercept   : AIC=-251.106, Time=3.04 sec\n",
      " ARIMA(2,0,3)(0,1,1)[7] intercept   : AIC=-268.764, Time=5.20 sec\n",
      " ARIMA(1,0,2)(0,1,1)[7]             : AIC=-278.056, Time=2.83 sec\n",
      " ARIMA(1,0,2)(0,1,0)[7]             : AIC=52.667, Time=0.43 sec\n",
      " ARIMA(1,0,2)(1,1,1)[7]             : AIC=-280.647, Time=5.82 sec\n",
      " ARIMA(1,0,2)(1,1,0)[7]             : AIC=-94.935, Time=0.86 sec\n",
      " ARIMA(1,0,2)(2,1,1)[7]             : AIC=-278.650, Time=5.20 sec\n",
      " ARIMA(1,0,2)(1,1,2)[7]             : AIC=-278.454, Time=4.92 sec\n",
      " ARIMA(1,0,2)(0,1,2)[7]             : AIC=-280.653, Time=4.46 sec\n",
      " ARIMA(0,0,2)(0,1,2)[7]             : AIC=-252.573, Time=2.27 sec\n",
      " ARIMA(1,0,1)(0,1,2)[7]             : AIC=-257.836, Time=3.09 sec\n",
      " ARIMA(2,0,2)(0,1,2)[7]             : AIC=-278.039, Time=4.48 sec\n",
      " ARIMA(1,0,3)(0,1,2)[7]             : AIC=-278.779, Time=4.98 sec\n",
      " ARIMA(0,0,1)(0,1,2)[7]             : AIC=-246.132, Time=1.17 sec\n",
      " ARIMA(0,0,3)(0,1,2)[7]             : AIC=-254.295, Time=2.82 sec\n",
      " ARIMA(2,0,1)(0,1,2)[7]             : AIC=-279.123, Time=5.60 sec\n",
      " ARIMA(2,0,3)(0,1,2)[7]             : AIC=-279.244, Time=12.01 sec\n",
      "\n",
      "Best model:  ARIMA(1,0,2)(0,1,2)[7]          \n",
      "Total fit time: 220.131 seconds\n"
     ]
    },
    {
     "name": "stderr",
     "output_type": "stream",
     "text": [
      "/var/folders/py/4rt338cj1ks4z3332m7l3f880000gp/T/ipykernel_38207/2998882079.py:52: FutureWarning: The frame.append method is deprecated and will be removed from pandas in a future version. Use pandas.concat instead.\n",
      "  df_result = df_result.append(row_dict, ignore_index=True)\n"
     ]
    },
    {
     "name": "stdout",
     "output_type": "stream",
     "text": [
      "Entite 4 F5\n",
      "Performing stepwise search to minimize aic\n",
      " ARIMA(1,0,1)(0,1,1)[7] intercept   : AIC=260.436, Time=5.40 sec\n",
      " ARIMA(0,0,0)(0,1,0)[7] intercept   : AIC=601.635, Time=0.26 sec\n",
      " ARIMA(1,0,0)(1,1,0)[7] intercept   : AIC=454.431, Time=0.89 sec\n",
      " ARIMA(0,0,1)(0,1,1)[7] intercept   : AIC=266.296, Time=1.51 sec\n",
      " ARIMA(0,0,0)(0,1,0)[7]             : AIC=599.739, Time=0.11 sec\n",
      " ARIMA(1,0,1)(0,1,0)[7] intercept   : AIC=605.400, Time=1.02 sec\n",
      " ARIMA(1,0,1)(1,1,1)[7] intercept   : AIC=inf, Time=3.77 sec\n",
      " ARIMA(1,0,1)(0,1,2)[7] intercept   : AIC=inf, Time=6.61 sec\n",
      " ARIMA(1,0,1)(1,1,0)[7] intercept   : AIC=456.263, Time=1.78 sec\n",
      " ARIMA(1,0,1)(1,1,2)[7] intercept   : AIC=inf, Time=7.63 sec\n",
      " ARIMA(1,0,0)(0,1,1)[7] intercept   : AIC=265.908, Time=1.45 sec\n",
      " ARIMA(2,0,1)(0,1,1)[7] intercept   : AIC=inf, Time=2.95 sec\n",
      " ARIMA(1,0,2)(0,1,1)[7] intercept   : AIC=inf, Time=3.86 sec\n",
      " ARIMA(0,0,0)(0,1,1)[7] intercept   : AIC=270.174, Time=1.07 sec\n",
      " ARIMA(0,0,2)(0,1,1)[7] intercept   : AIC=267.426, Time=2.25 sec\n",
      " ARIMA(2,0,0)(0,1,1)[7] intercept   : AIC=267.258, Time=1.62 sec\n",
      " ARIMA(2,0,2)(0,1,1)[7] intercept   : AIC=269.182, Time=3.59 sec\n",
      " ARIMA(1,0,1)(0,1,1)[7]             : AIC=inf, Time=1.76 sec\n",
      "\n",
      "Best model:  ARIMA(1,0,1)(0,1,1)[7] intercept\n",
      "Total fit time: 47.552 seconds\n"
     ]
    },
    {
     "name": "stderr",
     "output_type": "stream",
     "text": [
      "/var/folders/py/4rt338cj1ks4z3332m7l3f880000gp/T/ipykernel_38207/2998882079.py:52: FutureWarning: The frame.append method is deprecated and will be removed from pandas in a future version. Use pandas.concat instead.\n",
      "  df_result = df_result.append(row_dict, ignore_index=True)\n"
     ]
    },
    {
     "name": "stdout",
     "output_type": "stream",
     "text": [
      "Entite 5 F5\n",
      "Performing stepwise search to minimize aic\n",
      " ARIMA(1,0,1)(0,1,1)[7] intercept   : AIC=inf, Time=2.86 sec\n",
      " ARIMA(0,0,0)(0,1,0)[7] intercept   : AIC=316.948, Time=0.25 sec\n",
      " ARIMA(1,0,0)(1,1,0)[7] intercept   : AIC=142.847, Time=1.03 sec\n",
      " ARIMA(0,0,1)(0,1,1)[7] intercept   : AIC=-80.691, Time=1.05 sec\n",
      " ARIMA(0,0,0)(0,1,0)[7]             : AIC=315.100, Time=0.05 sec\n",
      " ARIMA(0,0,1)(0,1,0)[7] intercept   : AIC=317.643, Time=0.35 sec\n",
      " ARIMA(0,0,1)(1,1,1)[7] intercept   : AIC=-78.867, Time=2.43 sec\n",
      " ARIMA(0,0,1)(0,1,2)[7] intercept   : AIC=-78.886, Time=3.98 sec\n",
      " ARIMA(0,0,1)(1,1,0)[7] intercept   : AIC=143.714, Time=0.83 sec\n",
      " ARIMA(0,0,1)(1,1,2)[7] intercept   : AIC=-80.430, Time=6.00 sec\n",
      " ARIMA(0,0,0)(0,1,1)[7] intercept   : AIC=-72.201, Time=1.74 sec\n",
      " ARIMA(0,0,2)(0,1,1)[7] intercept   : AIC=-85.996, Time=2.09 sec\n",
      " ARIMA(0,0,2)(0,1,0)[7] intercept   : AIC=317.577, Time=0.67 sec\n",
      " ARIMA(0,0,2)(1,1,1)[7] intercept   : AIC=-84.192, Time=4.35 sec\n",
      " ARIMA(0,0,2)(0,1,2)[7] intercept   : AIC=-84.208, Time=5.07 sec\n",
      " ARIMA(0,0,2)(1,1,0)[7] intercept   : AIC=140.879, Time=1.32 sec\n",
      " ARIMA(0,0,2)(1,1,2)[7] intercept   : AIC=-85.374, Time=6.39 sec\n",
      " ARIMA(1,0,2)(0,1,1)[7] intercept   : AIC=inf, Time=4.69 sec\n",
      " ARIMA(0,0,3)(0,1,1)[7] intercept   : AIC=-86.578, Time=2.63 sec\n",
      " ARIMA(0,0,3)(0,1,0)[7] intercept   : AIC=319.574, Time=0.48 sec\n",
      " ARIMA(0,0,3)(1,1,1)[7] intercept   : AIC=-84.741, Time=3.53 sec\n",
      " ARIMA(0,0,3)(0,1,2)[7] intercept   : AIC=-84.754, Time=5.94 sec\n",
      " ARIMA(0,0,3)(1,1,0)[7] intercept   : AIC=142.762, Time=1.13 sec\n",
      " ARIMA(0,0,3)(1,1,2)[7] intercept   : AIC=-85.206, Time=10.53 sec\n",
      " ARIMA(1,0,3)(0,1,1)[7] intercept   : AIC=-84.624, Time=4.64 sec\n",
      " ARIMA(0,0,3)(0,1,1)[7]             : AIC=-85.753, Time=2.38 sec\n",
      "\n",
      "Best model:  ARIMA(0,0,3)(0,1,1)[7] intercept\n",
      "Total fit time: 76.451 seconds\n"
     ]
    },
    {
     "name": "stderr",
     "output_type": "stream",
     "text": [
      "/var/folders/py/4rt338cj1ks4z3332m7l3f880000gp/T/ipykernel_38207/2998882079.py:52: FutureWarning: The frame.append method is deprecated and will be removed from pandas in a future version. Use pandas.concat instead.\n",
      "  df_result = df_result.append(row_dict, ignore_index=True)\n"
     ]
    },
    {
     "name": "stdout",
     "output_type": "stream",
     "text": [
      "Entite 1 F6\n",
      "Performing stepwise search to minimize aic\n",
      " ARIMA(1,0,1)(0,1,1)[7] intercept   : AIC=inf, Time=3.58 sec\n",
      " ARIMA(0,0,0)(0,1,0)[7] intercept   : AIC=285.851, Time=0.20 sec\n",
      " ARIMA(1,0,0)(1,1,0)[7] intercept   : AIC=82.738, Time=0.98 sec\n",
      " ARIMA(0,0,1)(0,1,1)[7] intercept   : AIC=-112.155, Time=2.02 sec\n",
      " ARIMA(0,0,0)(0,1,0)[7]             : AIC=284.046, Time=0.06 sec\n",
      " ARIMA(0,0,1)(0,1,0)[7] intercept   : AIC=277.833, Time=0.32 sec\n",
      " ARIMA(0,0,1)(1,1,1)[7] intercept   : AIC=-110.158, Time=3.10 sec\n",
      " ARIMA(0,0,1)(0,1,2)[7] intercept   : AIC=-110.158, Time=3.13 sec\n",
      " ARIMA(0,0,1)(1,1,0)[7] intercept   : AIC=85.052, Time=0.66 sec\n",
      " ARIMA(0,0,1)(1,1,2)[7] intercept   : AIC=-108.203, Time=4.11 sec\n",
      " ARIMA(0,0,0)(0,1,1)[7] intercept   : AIC=-86.401, Time=0.91 sec\n",
      " ARIMA(0,0,2)(0,1,1)[7] intercept   : AIC=-117.140, Time=3.80 sec\n",
      " ARIMA(0,0,2)(0,1,0)[7] intercept   : AIC=277.548, Time=0.42 sec\n",
      " ARIMA(0,0,2)(1,1,1)[7] intercept   : AIC=-115.141, Time=3.22 sec\n",
      " ARIMA(0,0,2)(0,1,2)[7] intercept   : AIC=-115.141, Time=8.16 sec\n",
      " ARIMA(0,0,2)(1,1,0)[7] intercept   : AIC=83.553, Time=0.95 sec\n",
      " ARIMA(0,0,2)(1,1,2)[7] intercept   : AIC=-116.550, Time=9.85 sec\n",
      " ARIMA(1,0,2)(0,1,1)[7] intercept   : AIC=inf, Time=17.51 sec\n",
      " ARIMA(0,0,3)(0,1,1)[7] intercept   : AIC=-120.837, Time=3.39 sec\n",
      " ARIMA(0,0,3)(0,1,0)[7] intercept   : AIC=278.999, Time=0.96 sec\n",
      " ARIMA(0,0,3)(1,1,1)[7] intercept   : AIC=-118.869, Time=9.65 sec\n",
      " ARIMA(0,0,3)(0,1,2)[7] intercept   : AIC=-118.870, Time=10.40 sec\n",
      " ARIMA(0,0,3)(1,1,0)[7] intercept   : AIC=84.036, Time=2.18 sec\n",
      " ARIMA(0,0,3)(1,1,2)[7] intercept   : AIC=-116.854, Time=12.57 sec\n",
      " ARIMA(1,0,3)(0,1,1)[7] intercept   : AIC=-129.147, Time=4.81 sec\n",
      " ARIMA(1,0,3)(0,1,0)[7] intercept   : AIC=280.607, Time=1.52 sec\n",
      " ARIMA(1,0,3)(1,1,1)[7] intercept   : AIC=-118.663, Time=5.47 sec\n",
      " ARIMA(1,0,3)(0,1,2)[7] intercept   : AIC=-117.544, Time=7.00 sec\n",
      " ARIMA(1,0,3)(1,1,0)[7] intercept   : AIC=85.629, Time=2.90 sec\n",
      " ARIMA(1,0,3)(1,1,2)[7] intercept   : AIC=inf, Time=7.35 sec\n",
      " ARIMA(2,0,3)(0,1,1)[7] intercept   : AIC=-129.226, Time=4.07 sec\n",
      " ARIMA(2,0,3)(0,1,0)[7] intercept   : AIC=inf, Time=3.90 sec\n",
      " ARIMA(2,0,3)(1,1,1)[7] intercept   : AIC=-119.734, Time=4.56 sec\n",
      " ARIMA(2,0,3)(0,1,2)[7] intercept   : AIC=-118.060, Time=10.77 sec\n",
      " ARIMA(2,0,3)(1,1,0)[7] intercept   : AIC=87.562, Time=3.60 sec\n",
      " ARIMA(2,0,3)(1,1,2)[7] intercept   : AIC=inf, Time=13.50 sec\n",
      " ARIMA(2,0,2)(0,1,1)[7] intercept   : AIC=inf, Time=8.90 sec\n",
      " ARIMA(3,0,3)(0,1,1)[7] intercept   : AIC=inf, Time=18.74 sec\n",
      " ARIMA(3,0,2)(0,1,1)[7] intercept   : AIC=-128.000, Time=14.40 sec\n",
      " ARIMA(2,0,3)(0,1,1)[7]             : AIC=inf, Time=7.65 sec\n",
      "\n",
      "Best model:  ARIMA(2,0,3)(0,1,1)[7] intercept\n",
      "Total fit time: 221.308 seconds\n"
     ]
    },
    {
     "name": "stderr",
     "output_type": "stream",
     "text": [
      "/var/folders/py/4rt338cj1ks4z3332m7l3f880000gp/T/ipykernel_38207/2998882079.py:52: FutureWarning: The frame.append method is deprecated and will be removed from pandas in a future version. Use pandas.concat instead.\n",
      "  df_result = df_result.append(row_dict, ignore_index=True)\n"
     ]
    },
    {
     "name": "stdout",
     "output_type": "stream",
     "text": [
      "Entite 2 F6\n",
      "Entite 3 F6\n",
      "Entite 4 F6\n",
      "Entite 5 F6\n",
      "Performing stepwise search to minimize aic\n",
      " ARIMA(1,0,1)(0,1,1)[7] intercept   : AIC=-248.646, Time=6.48 sec\n",
      " ARIMA(0,0,0)(0,1,0)[7] intercept   : AIC=143.799, Time=0.21 sec\n",
      " ARIMA(1,0,0)(1,1,0)[7] intercept   : AIC=-33.610, Time=1.45 sec\n",
      " ARIMA(0,0,1)(0,1,1)[7] intercept   : AIC=-221.462, Time=2.41 sec\n",
      " ARIMA(0,0,0)(0,1,0)[7]             : AIC=142.391, Time=0.08 sec\n",
      " ARIMA(1,0,1)(0,1,0)[7] intercept   : AIC=135.469, Time=1.43 sec\n",
      " ARIMA(1,0,1)(1,1,1)[7] intercept   : AIC=-244.324, Time=4.06 sec\n",
      " ARIMA(1,0,1)(0,1,2)[7] intercept   : AIC=-240.608, Time=11.31 sec\n",
      " ARIMA(1,0,1)(1,1,0)[7] intercept   : AIC=-35.749, Time=4.44 sec\n",
      " ARIMA(1,0,1)(1,1,2)[7] intercept   : AIC=-244.730, Time=15.25 sec\n",
      " ARIMA(1,0,0)(0,1,1)[7] intercept   : AIC=-226.597, Time=2.15 sec\n",
      " ARIMA(2,0,1)(0,1,1)[7] intercept   : AIC=-244.198, Time=6.88 sec\n",
      " ARIMA(1,0,2)(0,1,1)[7] intercept   : AIC=-248.290, Time=6.30 sec\n",
      " ARIMA(0,0,0)(0,1,1)[7] intercept   : AIC=-199.059, Time=1.19 sec\n",
      " ARIMA(0,0,2)(0,1,1)[7] intercept   : AIC=-226.145, Time=5.54 sec\n",
      " ARIMA(2,0,0)(0,1,1)[7] intercept   : AIC=-232.562, Time=2.34 sec\n",
      " ARIMA(2,0,2)(0,1,1)[7] intercept   : AIC=inf, Time=5.91 sec\n",
      " ARIMA(1,0,1)(0,1,1)[7]             : AIC=-247.110, Time=1.78 sec\n",
      "\n",
      "Best model:  ARIMA(1,0,1)(0,1,1)[7] intercept\n",
      "Total fit time: 79.237 seconds\n"
     ]
    },
    {
     "name": "stderr",
     "output_type": "stream",
     "text": [
      "/var/folders/py/4rt338cj1ks4z3332m7l3f880000gp/T/ipykernel_38207/2998882079.py:52: FutureWarning: The frame.append method is deprecated and will be removed from pandas in a future version. Use pandas.concat instead.\n",
      "  df_result = df_result.append(row_dict, ignore_index=True)\n"
     ]
    },
    {
     "name": "stdout",
     "output_type": "stream",
     "text": [
      "Entite 1 F7\n",
      "Performing stepwise search to minimize aic\n",
      " ARIMA(1,0,1)(0,1,1)[7] intercept   : AIC=inf, Time=3.93 sec\n",
      " ARIMA(0,0,0)(0,1,0)[7] intercept   : AIC=-558.761, Time=0.08 sec\n",
      " ARIMA(1,0,0)(1,1,0)[7] intercept   : AIC=-728.968, Time=1.13 sec\n",
      " ARIMA(0,0,1)(0,1,1)[7] intercept   : AIC=-923.771, Time=1.59 sec\n",
      " ARIMA(0,0,0)(0,1,0)[7]             : AIC=-560.726, Time=0.10 sec\n",
      " ARIMA(0,0,1)(0,1,0)[7] intercept   : AIC=-586.240, Time=0.38 sec\n",
      " ARIMA(0,0,1)(1,1,1)[7] intercept   : AIC=inf, Time=7.79 sec\n",
      " ARIMA(0,0,1)(0,1,2)[7] intercept   : AIC=inf, Time=11.55 sec\n",
      " ARIMA(0,0,1)(1,1,0)[7] intercept   : AIC=-724.092, Time=4.05 sec\n",
      " ARIMA(0,0,1)(1,1,2)[7] intercept   : AIC=inf, Time=20.65 sec\n",
      " ARIMA(0,0,0)(0,1,1)[7] intercept   : AIC=-881.047, Time=0.96 sec\n",
      " ARIMA(0,0,2)(0,1,1)[7] intercept   : AIC=-925.902, Time=4.72 sec\n",
      " ARIMA(0,0,2)(0,1,0)[7] intercept   : AIC=-585.867, Time=1.11 sec\n",
      " ARIMA(0,0,2)(1,1,1)[7] intercept   : AIC=inf, Time=9.97 sec\n",
      " ARIMA(0,0,2)(0,1,2)[7] intercept   : AIC=inf, Time=10.68 sec\n",
      " ARIMA(0,0,2)(1,1,0)[7] intercept   : AIC=-724.160, Time=3.14 sec\n",
      " ARIMA(0,0,2)(1,1,2)[7] intercept   : AIC=inf, Time=13.80 sec\n",
      " ARIMA(1,0,2)(0,1,1)[7] intercept   : AIC=inf, Time=16.73 sec\n",
      " ARIMA(0,0,3)(0,1,1)[7] intercept   : AIC=inf, Time=10.81 sec\n",
      " ARIMA(1,0,3)(0,1,1)[7] intercept   : AIC=inf, Time=11.73 sec\n",
      " ARIMA(0,0,2)(0,1,1)[7]             : AIC=-926.266, Time=1.94 sec\n",
      " ARIMA(0,0,2)(0,1,0)[7]             : AIC=-587.843, Time=0.50 sec\n",
      " ARIMA(0,0,2)(1,1,1)[7]             : AIC=inf, Time=3.70 sec\n",
      " ARIMA(0,0,2)(0,1,2)[7]             : AIC=inf, Time=9.90 sec\n",
      " ARIMA(0,0,2)(1,1,0)[7]             : AIC=-726.104, Time=1.96 sec\n",
      " ARIMA(0,0,2)(1,1,2)[7]             : AIC=inf, Time=14.07 sec\n",
      " ARIMA(0,0,1)(0,1,1)[7]             : AIC=-924.222, Time=2.03 sec\n",
      " ARIMA(1,0,2)(0,1,1)[7]             : AIC=inf, Time=7.68 sec\n",
      " ARIMA(0,0,3)(0,1,1)[7]             : AIC=-944.182, Time=2.58 sec\n",
      " ARIMA(0,0,3)(0,1,0)[7]             : AIC=-601.674, Time=1.21 sec\n",
      " ARIMA(0,0,3)(1,1,1)[7]             : AIC=inf, Time=2.74 sec\n",
      " ARIMA(0,0,3)(0,1,2)[7]             : AIC=inf, Time=10.84 sec\n",
      " ARIMA(0,0,3)(1,1,0)[7]             : AIC=-742.931, Time=0.57 sec\n",
      " ARIMA(0,0,3)(1,1,2)[7]             : AIC=inf, Time=14.25 sec\n",
      " ARIMA(1,0,3)(0,1,1)[7]             : AIC=inf, Time=6.20 sec\n",
      "\n",
      "Best model:  ARIMA(0,0,3)(0,1,1)[7]          \n",
      "Total fit time: 215.152 seconds\n"
     ]
    },
    {
     "name": "stderr",
     "output_type": "stream",
     "text": [
      "/var/folders/py/4rt338cj1ks4z3332m7l3f880000gp/T/ipykernel_38207/2998882079.py:52: FutureWarning: The frame.append method is deprecated and will be removed from pandas in a future version. Use pandas.concat instead.\n",
      "  df_result = df_result.append(row_dict, ignore_index=True)\n"
     ]
    },
    {
     "name": "stdout",
     "output_type": "stream",
     "text": [
      "Entite 2 F7\n",
      "Entite 3 F7\n",
      "Performing stepwise search to minimize aic\n",
      " ARIMA(1,0,1)(0,1,1)[7] intercept   : AIC=-195.391, Time=4.47 sec\n",
      " ARIMA(0,0,0)(0,1,0)[7] intercept   : AIC=165.864, Time=0.19 sec\n",
      " ARIMA(1,0,0)(1,1,0)[7] intercept   : AIC=-4.181, Time=1.45 sec\n",
      " ARIMA(0,0,1)(0,1,1)[7] intercept   : AIC=-176.809, Time=2.30 sec\n",
      " ARIMA(0,0,0)(0,1,0)[7]             : AIC=164.023, Time=0.07 sec\n",
      " ARIMA(1,0,1)(0,1,0)[7] intercept   : AIC=156.307, Time=0.89 sec\n",
      " ARIMA(1,0,1)(1,1,1)[7] intercept   : AIC=-192.514, Time=3.03 sec\n",
      " ARIMA(1,0,1)(0,1,2)[7] intercept   : AIC=-193.716, Time=7.75 sec\n",
      " ARIMA(1,0,1)(1,1,0)[7] intercept   : AIC=-2.186, Time=2.26 sec\n",
      " ARIMA(1,0,1)(1,1,2)[7] intercept   : AIC=-192.830, Time=12.13 sec\n",
      " ARIMA(1,0,0)(0,1,1)[7] intercept   : AIC=-181.856, Time=2.13 sec\n",
      " ARIMA(2,0,1)(0,1,1)[7] intercept   : AIC=-198.256, Time=5.50 sec\n",
      " ARIMA(2,0,1)(0,1,0)[7] intercept   : AIC=142.014, Time=3.86 sec\n",
      " ARIMA(2,0,1)(1,1,1)[7] intercept   : AIC=-184.690, Time=5.13 sec\n",
      " ARIMA(2,0,1)(0,1,2)[7] intercept   : AIC=-182.083, Time=8.44 sec\n",
      " ARIMA(2,0,1)(1,1,0)[7] intercept   : AIC=-0.241, Time=1.57 sec\n",
      " ARIMA(2,0,1)(1,1,2)[7] intercept   : AIC=-194.126, Time=8.66 sec\n",
      " ARIMA(2,0,0)(0,1,1)[7] intercept   : AIC=-181.234, Time=1.64 sec\n",
      " ARIMA(3,0,1)(0,1,1)[7] intercept   : AIC=-189.951, Time=3.45 sec\n",
      " ARIMA(2,0,2)(0,1,1)[7] intercept   : AIC=inf, Time=4.87 sec\n",
      " ARIMA(1,0,2)(0,1,1)[7] intercept   : AIC=-173.297, Time=2.38 sec\n",
      " ARIMA(3,0,0)(0,1,1)[7] intercept   : AIC=-184.824, Time=4.31 sec\n",
      " ARIMA(3,0,2)(0,1,1)[7] intercept   : AIC=-200.442, Time=17.91 sec\n",
      " ARIMA(3,0,2)(0,1,0)[7] intercept   : AIC=inf, Time=13.93 sec\n",
      " ARIMA(3,0,2)(1,1,1)[7] intercept   : AIC=-184.129, Time=19.66 sec\n",
      " ARIMA(3,0,2)(0,1,2)[7] intercept   : AIC=-197.455, Time=9.74 sec\n",
      " ARIMA(3,0,2)(1,1,0)[7] intercept   : AIC=3.051, Time=6.24 sec\n",
      " ARIMA(3,0,2)(1,1,2)[7] intercept   : AIC=-197.954, Time=11.52 sec\n",
      " ARIMA(3,0,3)(0,1,1)[7] intercept   : AIC=-193.649, Time=12.09 sec\n",
      " ARIMA(2,0,3)(0,1,1)[7] intercept   : AIC=-201.498, Time=11.28 sec\n",
      " ARIMA(2,0,3)(0,1,0)[7] intercept   : AIC=inf, Time=4.96 sec\n",
      " ARIMA(2,0,3)(1,1,1)[7] intercept   : AIC=inf, Time=15.39 sec\n",
      " ARIMA(2,0,3)(0,1,2)[7] intercept   : AIC=inf, Time=20.62 sec\n",
      " ARIMA(2,0,3)(1,1,0)[7] intercept   : AIC=-16.082, Time=8.64 sec\n",
      " ARIMA(2,0,3)(1,1,2)[7] intercept   : AIC=-198.777, Time=15.82 sec\n",
      " ARIMA(1,0,3)(0,1,1)[7] intercept   : AIC=-197.397, Time=8.88 sec\n",
      " ARIMA(2,0,3)(0,1,1)[7]             : AIC=-204.056, Time=3.31 sec\n",
      " ARIMA(2,0,3)(0,1,0)[7]             : AIC=137.923, Time=1.87 sec\n",
      " ARIMA(2,0,3)(1,1,1)[7]             : AIC=-202.462, Time=5.80 sec\n",
      " ARIMA(2,0,3)(0,1,2)[7]             : AIC=-202.894, Time=18.07 sec\n",
      " ARIMA(2,0,3)(1,1,0)[7]             : AIC=-18.092, Time=8.13 sec\n",
      " ARIMA(2,0,3)(1,1,2)[7]             : AIC=-201.608, Time=12.57 sec\n",
      " ARIMA(1,0,3)(0,1,1)[7]             : AIC=-206.905, Time=4.49 sec\n",
      " ARIMA(1,0,3)(0,1,0)[7]             : AIC=143.605, Time=3.72 sec\n",
      " ARIMA(1,0,3)(1,1,1)[7]             : AIC=-205.431, Time=12.32 sec\n",
      " ARIMA(1,0,3)(0,1,2)[7]             : AIC=-205.491, Time=6.37 sec\n",
      " ARIMA(1,0,3)(1,1,0)[7]             : AIC=-0.356, Time=1.33 sec\n",
      " ARIMA(1,0,3)(1,1,2)[7]             : AIC=-204.625, Time=10.39 sec\n",
      " ARIMA(0,0,3)(0,1,1)[7]             : AIC=-179.469, Time=1.43 sec\n",
      " ARIMA(1,0,2)(0,1,1)[7]             : AIC=-171.477, Time=2.74 sec\n",
      " ARIMA(0,0,2)(0,1,1)[7]             : AIC=-175.916, Time=2.74 sec\n",
      " ARIMA(2,0,2)(0,1,1)[7]             : AIC=inf, Time=10.27 sec\n",
      "\n",
      "Best model:  ARIMA(1,0,3)(0,1,1)[7]          \n",
      "Total fit time: 368.949 seconds\n"
     ]
    },
    {
     "name": "stderr",
     "output_type": "stream",
     "text": [
      "/var/folders/py/4rt338cj1ks4z3332m7l3f880000gp/T/ipykernel_38207/2998882079.py:52: FutureWarning: The frame.append method is deprecated and will be removed from pandas in a future version. Use pandas.concat instead.\n",
      "  df_result = df_result.append(row_dict, ignore_index=True)\n"
     ]
    },
    {
     "name": "stdout",
     "output_type": "stream",
     "text": [
      "Entite 4 F7\n",
      "Performing stepwise search to minimize aic\n",
      " ARIMA(1,0,1)(0,1,1)[7] intercept   : AIC=inf, Time=11.13 sec\n",
      " ARIMA(0,0,0)(0,1,0)[7] intercept   : AIC=254.406, Time=0.19 sec\n",
      " ARIMA(1,0,0)(1,1,0)[7] intercept   : AIC=102.326, Time=1.68 sec\n",
      " ARIMA(0,0,1)(0,1,1)[7] intercept   : AIC=-113.617, Time=2.86 sec\n",
      " ARIMA(0,0,0)(0,1,0)[7]             : AIC=252.623, Time=0.17 sec\n",
      " ARIMA(0,0,1)(0,1,0)[7] intercept   : AIC=255.258, Time=0.64 sec\n",
      " ARIMA(0,0,1)(1,1,1)[7] intercept   : AIC=inf, Time=3.78 sec\n",
      " ARIMA(0,0,1)(0,1,2)[7] intercept   : AIC=inf, Time=11.65 sec\n",
      " ARIMA(0,0,1)(1,1,0)[7] intercept   : AIC=103.282, Time=3.95 sec\n",
      " ARIMA(0,0,1)(1,1,2)[7] intercept   : AIC=inf, Time=22.19 sec\n",
      " ARIMA(0,0,0)(0,1,1)[7] intercept   : AIC=-100.045, Time=1.78 sec\n",
      " ARIMA(0,0,2)(0,1,1)[7] intercept   : AIC=-113.656, Time=3.72 sec\n",
      " ARIMA(0,0,2)(0,1,0)[7] intercept   : AIC=256.305, Time=1.73 sec\n",
      " ARIMA(0,0,2)(1,1,1)[7] intercept   : AIC=inf, Time=12.37 sec\n",
      " ARIMA(0,0,2)(0,1,2)[7] intercept   : AIC=inf, Time=17.10 sec\n",
      " ARIMA(0,0,2)(1,1,0)[7] intercept   : AIC=103.855, Time=1.20 sec\n",
      " ARIMA(0,0,2)(1,1,2)[7] intercept   : AIC=inf, Time=8.52 sec\n",
      " ARIMA(1,0,2)(0,1,1)[7] intercept   : AIC=inf, Time=6.36 sec\n",
      " ARIMA(0,0,3)(0,1,1)[7] intercept   : AIC=inf, Time=5.19 sec\n",
      " ARIMA(1,0,3)(0,1,1)[7] intercept   : AIC=inf, Time=4.16 sec\n",
      " ARIMA(0,0,2)(0,1,1)[7]             : AIC=-110.804, Time=0.77 sec\n",
      "\n",
      "Best model:  ARIMA(0,0,2)(0,1,1)[7] intercept\n",
      "Total fit time: 121.188 seconds\n"
     ]
    },
    {
     "name": "stderr",
     "output_type": "stream",
     "text": [
      "/var/folders/py/4rt338cj1ks4z3332m7l3f880000gp/T/ipykernel_38207/2998882079.py:52: FutureWarning: The frame.append method is deprecated and will be removed from pandas in a future version. Use pandas.concat instead.\n",
      "  df_result = df_result.append(row_dict, ignore_index=True)\n"
     ]
    },
    {
     "name": "stdout",
     "output_type": "stream",
     "text": [
      "Entite 5 F7\n",
      "Performing stepwise search to minimize aic\n",
      " ARIMA(1,0,1)(0,1,1)[7] intercept   : AIC=inf, Time=2.54 sec\n",
      " ARIMA(0,0,0)(0,1,0)[7] intercept   : AIC=361.857, Time=0.26 sec\n",
      " ARIMA(1,0,0)(1,1,0)[7] intercept   : AIC=192.016, Time=0.71 sec\n",
      " ARIMA(0,0,1)(0,1,1)[7] intercept   : AIC=-29.268, Time=1.90 sec\n",
      " ARIMA(0,0,0)(0,1,0)[7]             : AIC=359.970, Time=0.08 sec\n",
      " ARIMA(0,0,1)(0,1,0)[7] intercept   : AIC=360.530, Time=0.34 sec\n",
      " ARIMA(0,0,1)(1,1,1)[7] intercept   : AIC=inf, Time=4.14 sec\n",
      " ARIMA(0,0,1)(0,1,2)[7] intercept   : AIC=inf, Time=10.58 sec\n",
      " ARIMA(0,0,1)(1,1,0)[7] intercept   : AIC=192.736, Time=2.12 sec\n",
      " ARIMA(0,0,1)(1,1,2)[7] intercept   : AIC=inf, Time=10.08 sec\n",
      " ARIMA(0,0,0)(0,1,1)[7] intercept   : AIC=-15.007, Time=2.90 sec\n",
      " ARIMA(0,0,2)(0,1,1)[7] intercept   : AIC=inf, Time=4.52 sec\n",
      " ARIMA(1,0,0)(0,1,1)[7] intercept   : AIC=inf, Time=5.14 sec\n",
      " ARIMA(1,0,2)(0,1,1)[7] intercept   : AIC=inf, Time=8.45 sec\n",
      " ARIMA(0,0,1)(0,1,1)[7]             : AIC=-31.213, Time=0.68 sec\n",
      " ARIMA(0,0,1)(0,1,0)[7]             : AIC=358.629, Time=0.15 sec\n",
      " ARIMA(0,0,1)(1,1,1)[7]             : AIC=inf, Time=4.34 sec\n",
      " ARIMA(0,0,1)(0,1,2)[7]             : AIC=inf, Time=5.07 sec\n",
      " ARIMA(0,0,1)(1,1,0)[7]             : AIC=190.910, Time=0.51 sec\n",
      " ARIMA(0,0,1)(1,1,2)[7]             : AIC=inf, Time=6.65 sec\n",
      " ARIMA(0,0,0)(0,1,1)[7]             : AIC=-16.884, Time=0.77 sec\n",
      " ARIMA(1,0,1)(0,1,1)[7]             : AIC=inf, Time=1.05 sec\n",
      " ARIMA(0,0,2)(0,1,1)[7]             : AIC=inf, Time=3.10 sec\n",
      " ARIMA(1,0,0)(0,1,1)[7]             : AIC=inf, Time=1.83 sec\n",
      " ARIMA(1,0,2)(0,1,1)[7]             : AIC=inf, Time=2.95 sec\n",
      "\n",
      "Best model:  ARIMA(0,0,1)(0,1,1)[7]          \n",
      "Total fit time: 80.895 seconds\n"
     ]
    },
    {
     "name": "stderr",
     "output_type": "stream",
     "text": [
      "/var/folders/py/4rt338cj1ks4z3332m7l3f880000gp/T/ipykernel_38207/2998882079.py:52: FutureWarning: The frame.append method is deprecated and will be removed from pandas in a future version. Use pandas.concat instead.\n",
      "  df_result = df_result.append(row_dict, ignore_index=True)\n"
     ]
    }
   ],
   "source": [
    "%matplotlib agg\n",
    "\n",
    "df_tel = pd.read_csv('data/telephonie_select.csv', index_col=\"date_appel\", parse_dates = True)\n",
    "\n",
    "print(df_tel.shape)\n",
    "liste_famille = df_tel.Famille.unique()\n",
    "liste_entite = df_tel.Entite.unique()\n",
    "\n",
    "df_result = pd.DataFrame(columns = ['model','Entite', 'Famille','mape','mase','mae','mse'])\n",
    "model_name = 'auto_arima'\n",
    "os.mkdir(f'images/output/{model_name}')\n",
    "for i, famille in enumerate(liste_famille):\n",
    "    for j, entite in enumerate(liste_entite):\n",
    "        print(entite,famille)\n",
    "        \n",
    "        df = df_tel[(df_tel[\"Entite\"] == entite)& (df_tel[\"Famille\"] == famille)]  \n",
    "        if len(df)>0:      \n",
    "            df = df.asfreq('d')\n",
    "            df.Entite = df.Entite.fillna(entite)\n",
    "            df.Famille = df.Famille.fillna(famille)\n",
    "            df.Nombre_entrants_corrige = df.Nombre_entrants_corrige.fillna(0)\n",
    "            df = df.reset_index(names='date')\n",
    "            series = TimeSeries.from_dataframe(df=df, time_col=\"date\", value_cols='Nombre_entrants_corrige')\n",
    "            scaler = MinMaxScaler(feature_range=(-1, 1))\n",
    "            scaler = Scaler(scaler)\n",
    "\n",
    "            train, val = series[:-45], series[-45:]\n",
    "            train = scaler.fit_transform(train)\n",
    "            val = scaler.transform(val)\n",
    "            series_norm = scaler.transform(series)\n",
    "            model = AutoARIMA( start_p=1, start_q=1,\n",
    "                         test='adf',\n",
    "                         max_p=3, max_q=3, m=7,\n",
    "                         start_P=0, seasonal=True,\n",
    "                         d=None, # it means use the test\n",
    "                         D=1, trace=True,\n",
    "                         error_action='ignore',  \n",
    "                         suppress_warnings=True, \n",
    "                         stepwise=True)           # init\n",
    "            model.fit(train)                      # fit\n",
    "            pred = model.predict(n=45) \n",
    "            mape_score = mape(val, pred)\n",
    "            mase_score = mase(val, pred,insample = train, m=7)\n",
    "            mae_score = mae(val, pred)\n",
    "            mse_score = mse(val, pred)\n",
    "            row_dict= {\n",
    "                'model':'NaiveDrift',\n",
    "                'Entite':entite, 'Famille':famille,\n",
    "                'mape':mape_score, 'mase':mase_score,\n",
    "                'mae':mae_score, 'mse':mse_score\n",
    "            }\n",
    "            df_result = df_result.append(row_dict, ignore_index=True)\n",
    "            \n",
    "\n",
    "\n",
    "            plt.figure(figsize=(8,6))\n",
    "            series_norm[-90:].plot(lw=3)\n",
    "            pred.plot(lw=3, label='forecast')\n",
    "            plt.savefig(f'images/output/{model_name}/{entite}_{famille}.png')\n",
    "df_result.to_csv(f\"data/{model_name}.csv\",index=False)"
   ]
  },
  {
   "attachments": {},
   "cell_type": "markdown",
   "metadata": {},
   "source": [
    "# Sarima"
   ]
  },
  {
   "cell_type": "code",
   "execution_count": 12,
   "metadata": {},
   "outputs": [
    {
     "name": "stdout",
     "output_type": "stream",
     "text": [
      "(11903, 3)\n",
      "Entite 1 F1\n"
     ]
    },
    {
     "name": "stderr",
     "output_type": "stream",
     "text": [
      "/var/folders/py/4rt338cj1ks4z3332m7l3f880000gp/T/ipykernel_2520/3510283075.py:56: FutureWarning: The frame.append method is deprecated and will be removed from pandas in a future version. Use pandas.concat instead.\n",
      "  df_result = df_result.append(row_dict, ignore_index=True)\n"
     ]
    },
    {
     "name": "stdout",
     "output_type": "stream",
     "text": [
      "Entite 2 F1\n"
     ]
    },
    {
     "name": "stderr",
     "output_type": "stream",
     "text": [
      "/var/folders/py/4rt338cj1ks4z3332m7l3f880000gp/T/ipykernel_2520/3510283075.py:56: FutureWarning: The frame.append method is deprecated and will be removed from pandas in a future version. Use pandas.concat instead.\n",
      "  df_result = df_result.append(row_dict, ignore_index=True)\n"
     ]
    },
    {
     "name": "stdout",
     "output_type": "stream",
     "text": [
      "Entite 3 F1\n",
      "Entite 4 F1\n",
      "Entite 5 F1\n"
     ]
    },
    {
     "name": "stderr",
     "output_type": "stream",
     "text": [
      "/var/folders/py/4rt338cj1ks4z3332m7l3f880000gp/T/ipykernel_2520/3510283075.py:56: FutureWarning: The frame.append method is deprecated and will be removed from pandas in a future version. Use pandas.concat instead.\n",
      "  df_result = df_result.append(row_dict, ignore_index=True)\n"
     ]
    },
    {
     "name": "stdout",
     "output_type": "stream",
     "text": [
      "Entite 1 F2\n"
     ]
    },
    {
     "name": "stderr",
     "output_type": "stream",
     "text": [
      "/var/folders/py/4rt338cj1ks4z3332m7l3f880000gp/T/ipykernel_2520/3510283075.py:56: FutureWarning: The frame.append method is deprecated and will be removed from pandas in a future version. Use pandas.concat instead.\n",
      "  df_result = df_result.append(row_dict, ignore_index=True)\n",
      "/var/folders/py/4rt338cj1ks4z3332m7l3f880000gp/T/ipykernel_2520/3510283075.py:60: RuntimeWarning: More than 20 figures have been opened. Figures created through the pyplot interface (`matplotlib.pyplot.figure`) are retained until explicitly closed and may consume too much memory. (To control this warning, see the rcParam `figure.max_open_warning`). Consider using `matplotlib.pyplot.close()`.\n",
      "  plt.figure(figsize=(8,6))\n"
     ]
    },
    {
     "name": "stdout",
     "output_type": "stream",
     "text": [
      "Entite 2 F2\n"
     ]
    },
    {
     "name": "stderr",
     "output_type": "stream",
     "text": [
      "/var/folders/py/4rt338cj1ks4z3332m7l3f880000gp/T/ipykernel_2520/3510283075.py:56: FutureWarning: The frame.append method is deprecated and will be removed from pandas in a future version. Use pandas.concat instead.\n",
      "  df_result = df_result.append(row_dict, ignore_index=True)\n"
     ]
    },
    {
     "name": "stdout",
     "output_type": "stream",
     "text": [
      "Entite 3 F2\n"
     ]
    },
    {
     "name": "stderr",
     "output_type": "stream",
     "text": [
      "/var/folders/py/4rt338cj1ks4z3332m7l3f880000gp/T/ipykernel_2520/3510283075.py:56: FutureWarning: The frame.append method is deprecated and will be removed from pandas in a future version. Use pandas.concat instead.\n",
      "  df_result = df_result.append(row_dict, ignore_index=True)\n"
     ]
    },
    {
     "name": "stdout",
     "output_type": "stream",
     "text": [
      "Entite 4 F2\n",
      "Entite 5 F2\n"
     ]
    },
    {
     "name": "stderr",
     "output_type": "stream",
     "text": [
      "/var/folders/py/4rt338cj1ks4z3332m7l3f880000gp/T/ipykernel_2520/3510283075.py:56: FutureWarning: The frame.append method is deprecated and will be removed from pandas in a future version. Use pandas.concat instead.\n",
      "  df_result = df_result.append(row_dict, ignore_index=True)\n"
     ]
    },
    {
     "name": "stdout",
     "output_type": "stream",
     "text": [
      "Entite 1 F3\n"
     ]
    },
    {
     "name": "stderr",
     "output_type": "stream",
     "text": [
      "/var/folders/py/4rt338cj1ks4z3332m7l3f880000gp/T/ipykernel_2520/3510283075.py:56: FutureWarning: The frame.append method is deprecated and will be removed from pandas in a future version. Use pandas.concat instead.\n",
      "  df_result = df_result.append(row_dict, ignore_index=True)\n"
     ]
    },
    {
     "name": "stdout",
     "output_type": "stream",
     "text": [
      "Entite 2 F3\n"
     ]
    },
    {
     "name": "stderr",
     "output_type": "stream",
     "text": [
      "/var/folders/py/4rt338cj1ks4z3332m7l3f880000gp/T/ipykernel_2520/3510283075.py:56: FutureWarning: The frame.append method is deprecated and will be removed from pandas in a future version. Use pandas.concat instead.\n",
      "  df_result = df_result.append(row_dict, ignore_index=True)\n"
     ]
    },
    {
     "name": "stdout",
     "output_type": "stream",
     "text": [
      "Entite 3 F3\n",
      "Entite 4 F3\n",
      "Entite 5 F3\n"
     ]
    },
    {
     "name": "stderr",
     "output_type": "stream",
     "text": [
      "/Users/charles/Documents/pythonProject/Seires_temporelles_banque/env/lib/python3.11/site-packages/statsmodels/tsa/statespace/sarimax.py:966: UserWarning: Non-stationary starting autoregressive parameters found. Using zeros as starting parameters.\n",
      "  warn('Non-stationary starting autoregressive parameters'\n",
      "/Users/charles/Documents/pythonProject/Seires_temporelles_banque/env/lib/python3.11/site-packages/statsmodels/tsa/statespace/sarimax.py:978: UserWarning: Non-invertible starting MA parameters found. Using zeros as starting parameters.\n",
      "  warn('Non-invertible starting MA parameters found.'\n",
      "/var/folders/py/4rt338cj1ks4z3332m7l3f880000gp/T/ipykernel_2520/3510283075.py:56: FutureWarning: The frame.append method is deprecated and will be removed from pandas in a future version. Use pandas.concat instead.\n",
      "  df_result = df_result.append(row_dict, ignore_index=True)\n"
     ]
    },
    {
     "name": "stdout",
     "output_type": "stream",
     "text": [
      "Entite 1 F5\n"
     ]
    },
    {
     "name": "stderr",
     "output_type": "stream",
     "text": [
      "/var/folders/py/4rt338cj1ks4z3332m7l3f880000gp/T/ipykernel_2520/3510283075.py:56: FutureWarning: The frame.append method is deprecated and will be removed from pandas in a future version. Use pandas.concat instead.\n",
      "  df_result = df_result.append(row_dict, ignore_index=True)\n"
     ]
    },
    {
     "name": "stdout",
     "output_type": "stream",
     "text": [
      "Entite 2 F5\n",
      "Entite 3 F5\n"
     ]
    },
    {
     "name": "stderr",
     "output_type": "stream",
     "text": [
      "/Users/charles/Documents/pythonProject/Seires_temporelles_banque/env/lib/python3.11/site-packages/statsmodels/base/model.py:607: ConvergenceWarning: Maximum Likelihood optimization failed to converge. Check mle_retvals\n",
      "  warnings.warn(\"Maximum Likelihood optimization failed to \"\n",
      "/var/folders/py/4rt338cj1ks4z3332m7l3f880000gp/T/ipykernel_2520/3510283075.py:56: FutureWarning: The frame.append method is deprecated and will be removed from pandas in a future version. Use pandas.concat instead.\n",
      "  df_result = df_result.append(row_dict, ignore_index=True)\n"
     ]
    },
    {
     "name": "stdout",
     "output_type": "stream",
     "text": [
      "Entite 4 F5\n"
     ]
    },
    {
     "name": "stderr",
     "output_type": "stream",
     "text": [
      "/var/folders/py/4rt338cj1ks4z3332m7l3f880000gp/T/ipykernel_2520/3510283075.py:56: FutureWarning: The frame.append method is deprecated and will be removed from pandas in a future version. Use pandas.concat instead.\n",
      "  df_result = df_result.append(row_dict, ignore_index=True)\n"
     ]
    },
    {
     "name": "stdout",
     "output_type": "stream",
     "text": [
      "Entite 5 F5\n"
     ]
    },
    {
     "name": "stderr",
     "output_type": "stream",
     "text": [
      "/var/folders/py/4rt338cj1ks4z3332m7l3f880000gp/T/ipykernel_2520/3510283075.py:56: FutureWarning: The frame.append method is deprecated and will be removed from pandas in a future version. Use pandas.concat instead.\n",
      "  df_result = df_result.append(row_dict, ignore_index=True)\n"
     ]
    },
    {
     "name": "stdout",
     "output_type": "stream",
     "text": [
      "Entite 1 F6\n"
     ]
    },
    {
     "name": "stderr",
     "output_type": "stream",
     "text": [
      "/var/folders/py/4rt338cj1ks4z3332m7l3f880000gp/T/ipykernel_2520/3510283075.py:56: FutureWarning: The frame.append method is deprecated and will be removed from pandas in a future version. Use pandas.concat instead.\n",
      "  df_result = df_result.append(row_dict, ignore_index=True)\n"
     ]
    },
    {
     "name": "stdout",
     "output_type": "stream",
     "text": [
      "Entite 2 F6\n",
      "Entite 3 F6\n",
      "Entite 4 F6\n",
      "Entite 5 F6\n"
     ]
    },
    {
     "name": "stderr",
     "output_type": "stream",
     "text": [
      "/Users/charles/Documents/pythonProject/Seires_temporelles_banque/env/lib/python3.11/site-packages/statsmodels/base/model.py:607: ConvergenceWarning: Maximum Likelihood optimization failed to converge. Check mle_retvals\n",
      "  warnings.warn(\"Maximum Likelihood optimization failed to \"\n",
      "/var/folders/py/4rt338cj1ks4z3332m7l3f880000gp/T/ipykernel_2520/3510283075.py:56: FutureWarning: The frame.append method is deprecated and will be removed from pandas in a future version. Use pandas.concat instead.\n",
      "  df_result = df_result.append(row_dict, ignore_index=True)\n"
     ]
    },
    {
     "name": "stdout",
     "output_type": "stream",
     "text": [
      "Entite 1 F7\n"
     ]
    },
    {
     "name": "stderr",
     "output_type": "stream",
     "text": [
      "/var/folders/py/4rt338cj1ks4z3332m7l3f880000gp/T/ipykernel_2520/3510283075.py:56: FutureWarning: The frame.append method is deprecated and will be removed from pandas in a future version. Use pandas.concat instead.\n",
      "  df_result = df_result.append(row_dict, ignore_index=True)\n"
     ]
    },
    {
     "name": "stdout",
     "output_type": "stream",
     "text": [
      "Entite 2 F7\n",
      "Entite 3 F7\n"
     ]
    },
    {
     "name": "stderr",
     "output_type": "stream",
     "text": [
      "/var/folders/py/4rt338cj1ks4z3332m7l3f880000gp/T/ipykernel_2520/3510283075.py:56: FutureWarning: The frame.append method is deprecated and will be removed from pandas in a future version. Use pandas.concat instead.\n",
      "  df_result = df_result.append(row_dict, ignore_index=True)\n"
     ]
    },
    {
     "name": "stdout",
     "output_type": "stream",
     "text": [
      "Entite 4 F7\n"
     ]
    },
    {
     "name": "stderr",
     "output_type": "stream",
     "text": [
      "/var/folders/py/4rt338cj1ks4z3332m7l3f880000gp/T/ipykernel_2520/3510283075.py:56: FutureWarning: The frame.append method is deprecated and will be removed from pandas in a future version. Use pandas.concat instead.\n",
      "  df_result = df_result.append(row_dict, ignore_index=True)\n"
     ]
    },
    {
     "name": "stdout",
     "output_type": "stream",
     "text": [
      "Entite 5 F7\n"
     ]
    },
    {
     "name": "stderr",
     "output_type": "stream",
     "text": [
      "/var/folders/py/4rt338cj1ks4z3332m7l3f880000gp/T/ipykernel_2520/3510283075.py:56: FutureWarning: The frame.append method is deprecated and will be removed from pandas in a future version. Use pandas.concat instead.\n",
      "  df_result = df_result.append(row_dict, ignore_index=True)\n"
     ]
    }
   ],
   "source": [
    "%matplotlib agg\n",
    "\n",
    "df_tel = pd.read_csv('data/telephonie_select.csv', index_col=\"date_appel\", parse_dates = True)\n",
    "sarima_parameters = pd.read_csv('data/sarima_parameters.csv')\n",
    "\n",
    "print(df_tel.shape)\n",
    "liste_famille = df_tel.Famille.unique()\n",
    "liste_entite = df_tel.Entite.unique()\n",
    "\n",
    "df_result = pd.DataFrame(columns = ['model','Entite', 'Famille','mape','mase','mae','mse'])\n",
    "model_name = 'sarima'\n",
    "os.makedirs(f'images/output/{model_name}', exist_ok=True)\n",
    "for i, famille in enumerate(liste_famille):\n",
    "    for j, entite in enumerate(liste_entite):\n",
    "        print(entite,famille)\n",
    "        \n",
    "        df = df_tel[(df_tel[\"Entite\"] == entite)& (df_tel[\"Famille\"] == famille)]  \n",
    "\n",
    "        sarima_parameter = sarima_parameters[(sarima_parameters[\"Entite\"] == entite)& (sarima_parameters[\"Famille\"] == famille)] \n",
    "        if len(df)>0:      \n",
    "            df = df.asfreq('d')\n",
    "            df.Entite = df.Entite.fillna(entite)\n",
    "            df.Famille = df.Famille.fillna(famille)\n",
    "            df.Nombre_entrants_corrige = df.Nombre_entrants_corrige.fillna(0)\n",
    "            df = df.reset_index(names='date')\n",
    "            series = TimeSeries.from_dataframe(df=df, time_col=\"date\", value_cols='Nombre_entrants_corrige')\n",
    "            scaler = MinMaxScaler(feature_range=(-1, 1))\n",
    "            scaler = Scaler(scaler)\n",
    "\n",
    "            train, val = series[:-45], series[-45:]\n",
    "            train = scaler.fit_transform(train)\n",
    "            val = scaler.transform(val)\n",
    "            series_norm = scaler.transform(series)\n",
    "            model = ARIMA(\n",
    "                        p = sarima_parameter.p.iloc[0],\n",
    "                        q = sarima_parameter.q.iloc[0],\n",
    "                        d = sarima_parameter.d.iloc[0],\n",
    "                        seasonal_order = (\n",
    "                            sarima_parameter.P.iloc[0],\n",
    "                            sarima_parameter.D.iloc[0],\n",
    "                            sarima_parameter.Q.iloc[0],\n",
    "                            sarima_parameter.m.iloc[0]\n",
    "                        ))           # init\n",
    "            model.fit(train)                      # fit\n",
    "            pred = model.predict(n=45) \n",
    "            mape_score = mape(val, pred)\n",
    "            mase_score = mase(val, pred,insample = train, m=7)\n",
    "            mae_score = mae(val, pred)\n",
    "            mse_score = mse(val, pred)\n",
    "            row_dict= {\n",
    "                'model':'Sarima',\n",
    "                'Entite':entite, 'Famille':famille,\n",
    "                'mape':mape_score, 'mase':mase_score,\n",
    "                'mae':mae_score, 'mse':mse_score\n",
    "            }\n",
    "            df_result = df_result.append(row_dict, ignore_index=True)\n",
    "            \n",
    "\n",
    "\n",
    "            plt.figure(figsize=(8,6))\n",
    "            series_norm[-90:].plot(lw=3)\n",
    "            pred.plot(lw=3, label='forecast')\n",
    "            plt.savefig(f'images/output/{model_name}/{entite}_{famille}.png')\n",
    "df_result.to_csv(f\"data/{model_name}.csv\",index=False)"
   ]
  },
  {
   "cell_type": "markdown",
   "metadata": {},
   "source": [
    "# XGboost"
   ]
  },
  {
   "cell_type": "code",
   "execution_count": 48,
   "metadata": {},
   "outputs": [
    {
     "name": "stdout",
     "output_type": "stream",
     "text": [
      "Entite 1 F1\n",
      "[10:27:08] WARNING: /Users/runner/work/xgboost/xgboost/python-package/build/temp.macosx-10.9-x86_64-cpython-38/xgboost/src/learner.cc:767: \n",
      "Parameters: { \"uses_future_covariates\" } are not used.\n",
      "\n"
     ]
    },
    {
     "name": "stderr",
     "output_type": "stream",
     "text": [
      "/var/folders/py/4rt338cj1ks4z3332m7l3f880000gp/T/ipykernel_14982/2297683808.py:62: FutureWarning: The frame.append method is deprecated and will be removed from pandas in a future version. Use pandas.concat instead.\n",
      "  df_result = df_result.append(row_dict, ignore_index=True)\n"
     ]
    },
    {
     "name": "stdout",
     "output_type": "stream",
     "text": [
      "Entite 2 F1\n",
      "[10:27:09] WARNING: /Users/runner/work/xgboost/xgboost/python-package/build/temp.macosx-10.9-x86_64-cpython-38/xgboost/src/learner.cc:767: \n",
      "Parameters: { \"uses_future_covariates\" } are not used.\n",
      "\n"
     ]
    },
    {
     "name": "stderr",
     "output_type": "stream",
     "text": [
      "/var/folders/py/4rt338cj1ks4z3332m7l3f880000gp/T/ipykernel_14982/2297683808.py:62: FutureWarning: The frame.append method is deprecated and will be removed from pandas in a future version. Use pandas.concat instead.\n",
      "  df_result = df_result.append(row_dict, ignore_index=True)\n"
     ]
    },
    {
     "name": "stdout",
     "output_type": "stream",
     "text": [
      "Entite 3 F1\n",
      "Entite 4 F1\n",
      "Entite 5 F1\n",
      "[10:27:11] WARNING: /Users/runner/work/xgboost/xgboost/python-package/build/temp.macosx-10.9-x86_64-cpython-38/xgboost/src/learner.cc:767: \n",
      "Parameters: { \"uses_future_covariates\" } are not used.\n",
      "\n"
     ]
    },
    {
     "name": "stderr",
     "output_type": "stream",
     "text": [
      "/var/folders/py/4rt338cj1ks4z3332m7l3f880000gp/T/ipykernel_14982/2297683808.py:62: FutureWarning: The frame.append method is deprecated and will be removed from pandas in a future version. Use pandas.concat instead.\n",
      "  df_result = df_result.append(row_dict, ignore_index=True)\n"
     ]
    },
    {
     "name": "stdout",
     "output_type": "stream",
     "text": [
      "Entite 1 F2\n",
      "[10:27:12] WARNING: /Users/runner/work/xgboost/xgboost/python-package/build/temp.macosx-10.9-x86_64-cpython-38/xgboost/src/learner.cc:767: \n",
      "Parameters: { \"uses_future_covariates\" } are not used.\n",
      "\n"
     ]
    },
    {
     "name": "stderr",
     "output_type": "stream",
     "text": [
      "/var/folders/py/4rt338cj1ks4z3332m7l3f880000gp/T/ipykernel_14982/2297683808.py:62: FutureWarning: The frame.append method is deprecated and will be removed from pandas in a future version. Use pandas.concat instead.\n",
      "  df_result = df_result.append(row_dict, ignore_index=True)\n"
     ]
    },
    {
     "name": "stdout",
     "output_type": "stream",
     "text": [
      "Entite 2 F2\n",
      "[10:27:13] WARNING: /Users/runner/work/xgboost/xgboost/python-package/build/temp.macosx-10.9-x86_64-cpython-38/xgboost/src/learner.cc:767: \n",
      "Parameters: { \"uses_future_covariates\" } are not used.\n",
      "\n"
     ]
    },
    {
     "name": "stderr",
     "output_type": "stream",
     "text": [
      "/var/folders/py/4rt338cj1ks4z3332m7l3f880000gp/T/ipykernel_14982/2297683808.py:62: FutureWarning: The frame.append method is deprecated and will be removed from pandas in a future version. Use pandas.concat instead.\n",
      "  df_result = df_result.append(row_dict, ignore_index=True)\n"
     ]
    },
    {
     "name": "stdout",
     "output_type": "stream",
     "text": [
      "Entite 3 F2\n",
      "[10:27:14] WARNING: /Users/runner/work/xgboost/xgboost/python-package/build/temp.macosx-10.9-x86_64-cpython-38/xgboost/src/learner.cc:767: \n",
      "Parameters: { \"uses_future_covariates\" } are not used.\n",
      "\n"
     ]
    },
    {
     "name": "stderr",
     "output_type": "stream",
     "text": [
      "/var/folders/py/4rt338cj1ks4z3332m7l3f880000gp/T/ipykernel_14982/2297683808.py:62: FutureWarning: The frame.append method is deprecated and will be removed from pandas in a future version. Use pandas.concat instead.\n",
      "  df_result = df_result.append(row_dict, ignore_index=True)\n"
     ]
    },
    {
     "name": "stdout",
     "output_type": "stream",
     "text": [
      "Entite 4 F2\n",
      "Entite 5 F2\n",
      "[10:27:15] WARNING: /Users/runner/work/xgboost/xgboost/python-package/build/temp.macosx-10.9-x86_64-cpython-38/xgboost/src/learner.cc:767: \n",
      "Parameters: { \"uses_future_covariates\" } are not used.\n",
      "\n"
     ]
    },
    {
     "name": "stderr",
     "output_type": "stream",
     "text": [
      "/var/folders/py/4rt338cj1ks4z3332m7l3f880000gp/T/ipykernel_14982/2297683808.py:62: FutureWarning: The frame.append method is deprecated and will be removed from pandas in a future version. Use pandas.concat instead.\n",
      "  df_result = df_result.append(row_dict, ignore_index=True)\n"
     ]
    },
    {
     "name": "stdout",
     "output_type": "stream",
     "text": [
      "Entite 1 F3\n",
      "[10:27:19] WARNING: /Users/runner/work/xgboost/xgboost/python-package/build/temp.macosx-10.9-x86_64-cpython-38/xgboost/src/learner.cc:767: \n",
      "Parameters: { \"uses_future_covariates\" } are not used.\n",
      "\n"
     ]
    },
    {
     "name": "stderr",
     "output_type": "stream",
     "text": [
      "/var/folders/py/4rt338cj1ks4z3332m7l3f880000gp/T/ipykernel_14982/2297683808.py:62: FutureWarning: The frame.append method is deprecated and will be removed from pandas in a future version. Use pandas.concat instead.\n",
      "  df_result = df_result.append(row_dict, ignore_index=True)\n"
     ]
    },
    {
     "name": "stdout",
     "output_type": "stream",
     "text": [
      "Entite 2 F3\n",
      "[10:27:20] WARNING: /Users/runner/work/xgboost/xgboost/python-package/build/temp.macosx-10.9-x86_64-cpython-38/xgboost/src/learner.cc:767: \n",
      "Parameters: { \"uses_future_covariates\" } are not used.\n",
      "\n"
     ]
    },
    {
     "name": "stderr",
     "output_type": "stream",
     "text": [
      "/var/folders/py/4rt338cj1ks4z3332m7l3f880000gp/T/ipykernel_14982/2297683808.py:62: FutureWarning: The frame.append method is deprecated and will be removed from pandas in a future version. Use pandas.concat instead.\n",
      "  df_result = df_result.append(row_dict, ignore_index=True)\n"
     ]
    },
    {
     "name": "stdout",
     "output_type": "stream",
     "text": [
      "Entite 3 F3\n",
      "Entite 4 F3\n",
      "Entite 5 F3\n",
      "[10:27:21] WARNING: /Users/runner/work/xgboost/xgboost/python-package/build/temp.macosx-10.9-x86_64-cpython-38/xgboost/src/learner.cc:767: \n",
      "Parameters: { \"uses_future_covariates\" } are not used.\n",
      "\n"
     ]
    },
    {
     "name": "stderr",
     "output_type": "stream",
     "text": [
      "/var/folders/py/4rt338cj1ks4z3332m7l3f880000gp/T/ipykernel_14982/2297683808.py:62: FutureWarning: The frame.append method is deprecated and will be removed from pandas in a future version. Use pandas.concat instead.\n",
      "  df_result = df_result.append(row_dict, ignore_index=True)\n"
     ]
    },
    {
     "name": "stdout",
     "output_type": "stream",
     "text": [
      "Entite 1 F5\n",
      "[10:27:22] WARNING: /Users/runner/work/xgboost/xgboost/python-package/build/temp.macosx-10.9-x86_64-cpython-38/xgboost/src/learner.cc:767: \n",
      "Parameters: { \"uses_future_covariates\" } are not used.\n",
      "\n"
     ]
    },
    {
     "name": "stderr",
     "output_type": "stream",
     "text": [
      "/var/folders/py/4rt338cj1ks4z3332m7l3f880000gp/T/ipykernel_14982/2297683808.py:62: FutureWarning: The frame.append method is deprecated and will be removed from pandas in a future version. Use pandas.concat instead.\n",
      "  df_result = df_result.append(row_dict, ignore_index=True)\n"
     ]
    },
    {
     "name": "stdout",
     "output_type": "stream",
     "text": [
      "Entite 2 F5\n",
      "Entite 3 F5\n",
      "[10:27:23] WARNING: /Users/runner/work/xgboost/xgboost/python-package/build/temp.macosx-10.9-x86_64-cpython-38/xgboost/src/learner.cc:767: \n",
      "Parameters: { \"uses_future_covariates\" } are not used.\n",
      "\n"
     ]
    },
    {
     "name": "stderr",
     "output_type": "stream",
     "text": [
      "/var/folders/py/4rt338cj1ks4z3332m7l3f880000gp/T/ipykernel_14982/2297683808.py:62: FutureWarning: The frame.append method is deprecated and will be removed from pandas in a future version. Use pandas.concat instead.\n",
      "  df_result = df_result.append(row_dict, ignore_index=True)\n"
     ]
    },
    {
     "name": "stdout",
     "output_type": "stream",
     "text": [
      "Entite 4 F5\n",
      "[10:27:24] WARNING: /Users/runner/work/xgboost/xgboost/python-package/build/temp.macosx-10.9-x86_64-cpython-38/xgboost/src/learner.cc:767: \n",
      "Parameters: { \"uses_future_covariates\" } are not used.\n",
      "\n"
     ]
    },
    {
     "name": "stderr",
     "output_type": "stream",
     "text": [
      "/var/folders/py/4rt338cj1ks4z3332m7l3f880000gp/T/ipykernel_14982/2297683808.py:62: FutureWarning: The frame.append method is deprecated and will be removed from pandas in a future version. Use pandas.concat instead.\n",
      "  df_result = df_result.append(row_dict, ignore_index=True)\n"
     ]
    },
    {
     "name": "stdout",
     "output_type": "stream",
     "text": [
      "Entite 5 F5\n",
      "[10:27:25] WARNING: /Users/runner/work/xgboost/xgboost/python-package/build/temp.macosx-10.9-x86_64-cpython-38/xgboost/src/learner.cc:767: \n",
      "Parameters: { \"uses_future_covariates\" } are not used.\n",
      "\n"
     ]
    },
    {
     "name": "stderr",
     "output_type": "stream",
     "text": [
      "/var/folders/py/4rt338cj1ks4z3332m7l3f880000gp/T/ipykernel_14982/2297683808.py:62: FutureWarning: The frame.append method is deprecated and will be removed from pandas in a future version. Use pandas.concat instead.\n",
      "  df_result = df_result.append(row_dict, ignore_index=True)\n"
     ]
    },
    {
     "name": "stdout",
     "output_type": "stream",
     "text": [
      "Entite 1 F6\n",
      "[10:27:26] WARNING: /Users/runner/work/xgboost/xgboost/python-package/build/temp.macosx-10.9-x86_64-cpython-38/xgboost/src/learner.cc:767: \n",
      "Parameters: { \"uses_future_covariates\" } are not used.\n",
      "\n"
     ]
    },
    {
     "name": "stderr",
     "output_type": "stream",
     "text": [
      "/var/folders/py/4rt338cj1ks4z3332m7l3f880000gp/T/ipykernel_14982/2297683808.py:62: FutureWarning: The frame.append method is deprecated and will be removed from pandas in a future version. Use pandas.concat instead.\n",
      "  df_result = df_result.append(row_dict, ignore_index=True)\n"
     ]
    },
    {
     "name": "stdout",
     "output_type": "stream",
     "text": [
      "Entite 2 F6\n",
      "Entite 3 F6\n",
      "Entite 4 F6\n",
      "Entite 5 F6\n",
      "[10:27:26] WARNING: /Users/runner/work/xgboost/xgboost/python-package/build/temp.macosx-10.9-x86_64-cpython-38/xgboost/src/learner.cc:767: \n",
      "Parameters: { \"uses_future_covariates\" } are not used.\n",
      "\n"
     ]
    },
    {
     "name": "stderr",
     "output_type": "stream",
     "text": [
      "/var/folders/py/4rt338cj1ks4z3332m7l3f880000gp/T/ipykernel_14982/2297683808.py:62: FutureWarning: The frame.append method is deprecated and will be removed from pandas in a future version. Use pandas.concat instead.\n",
      "  df_result = df_result.append(row_dict, ignore_index=True)\n"
     ]
    },
    {
     "name": "stdout",
     "output_type": "stream",
     "text": [
      "Entite 1 F7\n",
      "[10:27:27] WARNING: /Users/runner/work/xgboost/xgboost/python-package/build/temp.macosx-10.9-x86_64-cpython-38/xgboost/src/learner.cc:767: \n",
      "Parameters: { \"uses_future_covariates\" } are not used.\n",
      "\n"
     ]
    },
    {
     "name": "stderr",
     "output_type": "stream",
     "text": [
      "/var/folders/py/4rt338cj1ks4z3332m7l3f880000gp/T/ipykernel_14982/2297683808.py:62: FutureWarning: The frame.append method is deprecated and will be removed from pandas in a future version. Use pandas.concat instead.\n",
      "  df_result = df_result.append(row_dict, ignore_index=True)\n"
     ]
    },
    {
     "name": "stdout",
     "output_type": "stream",
     "text": [
      "Entite 2 F7\n",
      "Entite 3 F7\n",
      "[10:27:29] WARNING: /Users/runner/work/xgboost/xgboost/python-package/build/temp.macosx-10.9-x86_64-cpython-38/xgboost/src/learner.cc:767: \n",
      "Parameters: { \"uses_future_covariates\" } are not used.\n",
      "\n"
     ]
    },
    {
     "name": "stderr",
     "output_type": "stream",
     "text": [
      "/var/folders/py/4rt338cj1ks4z3332m7l3f880000gp/T/ipykernel_14982/2297683808.py:62: FutureWarning: The frame.append method is deprecated and will be removed from pandas in a future version. Use pandas.concat instead.\n",
      "  df_result = df_result.append(row_dict, ignore_index=True)\n"
     ]
    },
    {
     "name": "stdout",
     "output_type": "stream",
     "text": [
      "Entite 4 F7\n",
      "[10:27:31] WARNING: /Users/runner/work/xgboost/xgboost/python-package/build/temp.macosx-10.9-x86_64-cpython-38/xgboost/src/learner.cc:767: \n",
      "Parameters: { \"uses_future_covariates\" } are not used.\n",
      "\n"
     ]
    },
    {
     "name": "stderr",
     "output_type": "stream",
     "text": [
      "/var/folders/py/4rt338cj1ks4z3332m7l3f880000gp/T/ipykernel_14982/2297683808.py:62: FutureWarning: The frame.append method is deprecated and will be removed from pandas in a future version. Use pandas.concat instead.\n",
      "  df_result = df_result.append(row_dict, ignore_index=True)\n"
     ]
    },
    {
     "name": "stdout",
     "output_type": "stream",
     "text": [
      "Entite 5 F7\n",
      "[10:27:32] WARNING: /Users/runner/work/xgboost/xgboost/python-package/build/temp.macosx-10.9-x86_64-cpython-38/xgboost/src/learner.cc:767: \n",
      "Parameters: { \"uses_future_covariates\" } are not used.\n",
      "\n"
     ]
    },
    {
     "name": "stderr",
     "output_type": "stream",
     "text": [
      "/var/folders/py/4rt338cj1ks4z3332m7l3f880000gp/T/ipykernel_14982/2297683808.py:62: FutureWarning: The frame.append method is deprecated and will be removed from pandas in a future version. Use pandas.concat instead.\n",
      "  df_result = df_result.append(row_dict, ignore_index=True)\n"
     ]
    }
   ],
   "source": [
    "%matplotlib agg\n",
    "\n",
    "df_tel = pd.read_csv('data/telephonie_select.csv', index_col=\"date_appel\", parse_dates = True)\n",
    "ferie_solde = pd.read_csv('data/ferie_solde.csv', index_col=\"date\", parse_dates = True)\n",
    "ferie_solde = ferie_solde.reset_index(names='date')\n",
    "future_list =['jour','joursemaine','mois','annee','semaine','Ferie','avant_Ferie','après_Ferie','solde_ete','solde_hiver']\n",
    "ferie_solde = TimeSeries.from_dataframe(df=ferie_solde, time_col=\"date\", value_cols=future_list)\n",
    "\n",
    "lag_to_use = 7\n",
    "lag_list=[]\n",
    "for i in range(lag_to_use):\n",
    "    lag_list.append(f't-{i+1}')\n",
    "\n",
    "features = lag_list + future_list\n",
    "\n",
    "liste_famille = df_tel.Famille.unique()\n",
    "liste_entite = df_tel.Entite.unique()\n",
    "\n",
    "df_result = pd.DataFrame(columns = ['model','Entite', 'Famille','mape','mase','mae','mse'])\n",
    "df_features = pd.DataFrame(columns = ['Entite', 'Famille','Features', 'Importances'])\n",
    "model_name = 'xgboost'\n",
    "os.makedirs(f'images/output/{model_name}', exist_ok=True)\n",
    "for i, famille in enumerate(liste_famille):\n",
    "    for j, entite in enumerate(liste_entite):\n",
    "        print(entite,famille)\n",
    "        \n",
    "        df = df_tel[(df_tel[\"Entite\"] == entite)& (df_tel[\"Famille\"] == famille)]  \n",
    "        \n",
    "        if len(df)>0:      \n",
    "            df = df.asfreq('d')\n",
    "            df.Entite = df.Entite.fillna(entite)\n",
    "            df.Famille = df.Famille.fillna(famille)\n",
    "            df.Nombre_entrants_corrige = df.Nombre_entrants_corrige.fillna(0)\n",
    "            df = df.reset_index(names='date')\n",
    "            series = TimeSeries.from_dataframe(df=df, time_col=\"date\", value_cols=['Nombre_entrants_corrige'])#,'jour','joursemaine','mois','annee','semaine','Ferie','avant_Ferie','après_Ferie','solde_ete','solde_hiver'])\n",
    "            scaler = MinMaxScaler(feature_range=(-1, 1))\n",
    "            scaler = Scaler(scaler)\n",
    "\n",
    "            train, val = series[:-45], series[-45:]\n",
    "            train = scaler.fit_transform(train)\n",
    "            val = scaler.transform(val)\n",
    "            series_norm = scaler.transform(series)\n",
    "            model = XGBModel(lags=lag_to_use, uses_future_covariates=True,lags_future_covariates=[1])\n",
    "            model.fit(series = train, future_covariates=ferie_solde) \n",
    "            zip_data= zip(features,model.model.feature_importances_)\n",
    "            df_f = pd.DataFrame(zip_data, columns=['Features', 'Importances'])\n",
    "            df_f['Entite'] = 'entite'\n",
    "            df_f['Famille'] = 'famille'                     # fit\n",
    "            df_features = pd.concat([df_features,df_f], axis=0)\n",
    "            \n",
    "            pred = model.predict(n=45,future_covariates=ferie_solde) \n",
    "            mape_score = mape(val, pred)\n",
    "            mase_score = mase(val, pred,insample = train, m=7)\n",
    "            mae_score = mae(val, pred)\n",
    "            mse_score = mse(val, pred)\n",
    "            row_dict= {\n",
    "                'model':'Xgboost',\n",
    "                'Entite':entite, 'Famille':famille,\n",
    "                'mape':mape_score, 'mase':mase_score,\n",
    "                'mae':mae_score, 'mse':mse_score\n",
    "            }\n",
    "            df_result = df_result.append(row_dict, ignore_index=True)\n",
    "            \n",
    "            \n",
    "\n",
    "            plt.figure(figsize=(8,6))\n",
    "            series_norm[-90:].plot(lw=3)\n",
    "            pred.plot(lw=3, label='forecast')\n",
    "\n",
    "            plt.savefig(f'images/output/{model_name}/{entite}_{famille}.png')\n",
    "df_result.to_csv(f\"data/{model_name}.csv\",index=False)\n",
    "df_features.to_csv(f\"data/{model_name}_features.csv\",index=False)"
   ]
  },
  {
   "cell_type": "code",
   "execution_count": 41,
   "metadata": {},
   "outputs": [
    {
     "data": {
      "text/plain": [
       "['t-1',\n",
       " 't-2',\n",
       " 't-3',\n",
       " 't-4',\n",
       " 't-5',\n",
       " 't-6',\n",
       " 't-7',\n",
       " 'jour',\n",
       " 'joursemaine',\n",
       " 'mois',\n",
       " 'annee',\n",
       " 'semaine',\n",
       " 'Ferie',\n",
       " 'avant_Ferie',\n",
       " 'après_Ferie',\n",
       " 'solde_ete',\n",
       " 'solde_hiver']"
      ]
     },
     "execution_count": 41,
     "metadata": {},
     "output_type": "execute_result"
    }
   ],
   "source": [
    "lag_list=[]\n",
    "for i in range(lag_to_use):\n",
    "    lag_list.append(f't-{i+1}')\n",
    "\n",
    "features = lag_list + future_list\n",
    "features"
   ]
  },
  {
   "cell_type": "markdown",
   "metadata": {},
   "source": [
    "# Prophet"
   ]
  },
  {
   "cell_type": "code",
   "execution_count": 52,
   "metadata": {},
   "outputs": [
    {
     "name": "stdout",
     "output_type": "stream",
     "text": [
      "Entite 1 F1\n"
     ]
    },
    {
     "name": "stderr",
     "output_type": "stream",
     "text": [
      "12:22:51 - cmdstanpy - INFO - Chain [1] start processing\n",
      "12:22:52 - cmdstanpy - INFO - Chain [1] done processing\n",
      "/var/folders/py/4rt338cj1ks4z3332m7l3f880000gp/T/ipykernel_14982/547227983.py:46: FutureWarning: The frame.append method is deprecated and will be removed from pandas in a future version. Use pandas.concat instead.\n",
      "  df_result = df_result.append(row_dict, ignore_index=True)\n"
     ]
    },
    {
     "name": "stdout",
     "output_type": "stream",
     "text": [
      "Entite 2 F1\n"
     ]
    },
    {
     "name": "stderr",
     "output_type": "stream",
     "text": [
      "12:22:54 - cmdstanpy - INFO - Chain [1] start processing\n",
      "12:22:54 - cmdstanpy - INFO - Chain [1] done processing\n",
      "/var/folders/py/4rt338cj1ks4z3332m7l3f880000gp/T/ipykernel_14982/547227983.py:46: FutureWarning: The frame.append method is deprecated and will be removed from pandas in a future version. Use pandas.concat instead.\n",
      "  df_result = df_result.append(row_dict, ignore_index=True)\n"
     ]
    },
    {
     "name": "stdout",
     "output_type": "stream",
     "text": [
      "Entite 3 F1\n",
      "Entite 4 F1\n",
      "Entite 5 F1\n"
     ]
    },
    {
     "name": "stderr",
     "output_type": "stream",
     "text": [
      "12:22:55 - cmdstanpy - INFO - Chain [1] start processing\n",
      "12:22:56 - cmdstanpy - INFO - Chain [1] done processing\n",
      "/var/folders/py/4rt338cj1ks4z3332m7l3f880000gp/T/ipykernel_14982/547227983.py:46: FutureWarning: The frame.append method is deprecated and will be removed from pandas in a future version. Use pandas.concat instead.\n",
      "  df_result = df_result.append(row_dict, ignore_index=True)\n"
     ]
    },
    {
     "name": "stdout",
     "output_type": "stream",
     "text": [
      "Entite 1 F2\n"
     ]
    },
    {
     "name": "stderr",
     "output_type": "stream",
     "text": [
      "12:22:57 - cmdstanpy - INFO - Chain [1] start processing\n",
      "12:22:57 - cmdstanpy - INFO - Chain [1] done processing\n",
      "/var/folders/py/4rt338cj1ks4z3332m7l3f880000gp/T/ipykernel_14982/547227983.py:46: FutureWarning: The frame.append method is deprecated and will be removed from pandas in a future version. Use pandas.concat instead.\n",
      "  df_result = df_result.append(row_dict, ignore_index=True)\n"
     ]
    },
    {
     "name": "stdout",
     "output_type": "stream",
     "text": [
      "Entite 2 F2\n"
     ]
    },
    {
     "name": "stderr",
     "output_type": "stream",
     "text": [
      "12:22:59 - cmdstanpy - INFO - Chain [1] start processing\n",
      "12:22:59 - cmdstanpy - INFO - Chain [1] done processing\n",
      "/var/folders/py/4rt338cj1ks4z3332m7l3f880000gp/T/ipykernel_14982/547227983.py:46: FutureWarning: The frame.append method is deprecated and will be removed from pandas in a future version. Use pandas.concat instead.\n",
      "  df_result = df_result.append(row_dict, ignore_index=True)\n"
     ]
    },
    {
     "name": "stdout",
     "output_type": "stream",
     "text": [
      "Entite 3 F2\n"
     ]
    },
    {
     "name": "stderr",
     "output_type": "stream",
     "text": [
      "12:23:00 - cmdstanpy - INFO - Chain [1] start processing\n",
      "12:23:00 - cmdstanpy - INFO - Chain [1] done processing\n",
      "/var/folders/py/4rt338cj1ks4z3332m7l3f880000gp/T/ipykernel_14982/547227983.py:46: FutureWarning: The frame.append method is deprecated and will be removed from pandas in a future version. Use pandas.concat instead.\n",
      "  df_result = df_result.append(row_dict, ignore_index=True)\n"
     ]
    },
    {
     "name": "stdout",
     "output_type": "stream",
     "text": [
      "Entite 4 F2\n",
      "Entite 5 F2\n"
     ]
    },
    {
     "name": "stderr",
     "output_type": "stream",
     "text": [
      "12:23:01 - cmdstanpy - INFO - Chain [1] start processing\n",
      "12:23:02 - cmdstanpy - INFO - Chain [1] done processing\n",
      "/var/folders/py/4rt338cj1ks4z3332m7l3f880000gp/T/ipykernel_14982/547227983.py:46: FutureWarning: The frame.append method is deprecated and will be removed from pandas in a future version. Use pandas.concat instead.\n",
      "  df_result = df_result.append(row_dict, ignore_index=True)\n"
     ]
    },
    {
     "name": "stdout",
     "output_type": "stream",
     "text": [
      "Entite 1 F3\n"
     ]
    },
    {
     "name": "stderr",
     "output_type": "stream",
     "text": [
      "12:23:03 - cmdstanpy - INFO - Chain [1] start processing\n",
      "12:23:04 - cmdstanpy - INFO - Chain [1] done processing\n",
      "/var/folders/py/4rt338cj1ks4z3332m7l3f880000gp/T/ipykernel_14982/547227983.py:46: FutureWarning: The frame.append method is deprecated and will be removed from pandas in a future version. Use pandas.concat instead.\n",
      "  df_result = df_result.append(row_dict, ignore_index=True)\n",
      "12:23:05 - cmdstanpy - INFO - Chain [1] start processing\n"
     ]
    },
    {
     "name": "stdout",
     "output_type": "stream",
     "text": [
      "Entite 2 F3\n"
     ]
    },
    {
     "name": "stderr",
     "output_type": "stream",
     "text": [
      "12:23:05 - cmdstanpy - INFO - Chain [1] done processing\n",
      "/var/folders/py/4rt338cj1ks4z3332m7l3f880000gp/T/ipykernel_14982/547227983.py:46: FutureWarning: The frame.append method is deprecated and will be removed from pandas in a future version. Use pandas.concat instead.\n",
      "  df_result = df_result.append(row_dict, ignore_index=True)\n",
      "12:23:06 - cmdstanpy - INFO - Chain [1] start processing\n"
     ]
    },
    {
     "name": "stdout",
     "output_type": "stream",
     "text": [
      "Entite 3 F3\n",
      "Entite 4 F3\n",
      "Entite 5 F3\n"
     ]
    },
    {
     "name": "stderr",
     "output_type": "stream",
     "text": [
      "12:23:06 - cmdstanpy - INFO - Chain [1] done processing\n",
      "/var/folders/py/4rt338cj1ks4z3332m7l3f880000gp/T/ipykernel_14982/547227983.py:46: FutureWarning: The frame.append method is deprecated and will be removed from pandas in a future version. Use pandas.concat instead.\n",
      "  df_result = df_result.append(row_dict, ignore_index=True)\n",
      "12:23:07 - cmdstanpy - INFO - Chain [1] start processing\n"
     ]
    },
    {
     "name": "stdout",
     "output_type": "stream",
     "text": [
      "Entite 1 F5\n"
     ]
    },
    {
     "name": "stderr",
     "output_type": "stream",
     "text": [
      "12:23:08 - cmdstanpy - INFO - Chain [1] done processing\n",
      "/var/folders/py/4rt338cj1ks4z3332m7l3f880000gp/T/ipykernel_14982/547227983.py:46: FutureWarning: The frame.append method is deprecated and will be removed from pandas in a future version. Use pandas.concat instead.\n",
      "  df_result = df_result.append(row_dict, ignore_index=True)\n"
     ]
    },
    {
     "name": "stdout",
     "output_type": "stream",
     "text": [
      "Entite 2 F5\n",
      "Entite 3 F5\n"
     ]
    },
    {
     "name": "stderr",
     "output_type": "stream",
     "text": [
      "12:23:09 - cmdstanpy - INFO - Chain [1] start processing\n",
      "12:23:09 - cmdstanpy - INFO - Chain [1] done processing\n",
      "/var/folders/py/4rt338cj1ks4z3332m7l3f880000gp/T/ipykernel_14982/547227983.py:46: FutureWarning: The frame.append method is deprecated and will be removed from pandas in a future version. Use pandas.concat instead.\n",
      "  df_result = df_result.append(row_dict, ignore_index=True)\n",
      "12:23:10 - cmdstanpy - INFO - Chain [1] start processing\n"
     ]
    },
    {
     "name": "stdout",
     "output_type": "stream",
     "text": [
      "Entite 4 F5\n"
     ]
    },
    {
     "name": "stderr",
     "output_type": "stream",
     "text": [
      "12:23:10 - cmdstanpy - INFO - Chain [1] done processing\n",
      "/var/folders/py/4rt338cj1ks4z3332m7l3f880000gp/T/ipykernel_14982/547227983.py:46: FutureWarning: The frame.append method is deprecated and will be removed from pandas in a future version. Use pandas.concat instead.\n",
      "  df_result = df_result.append(row_dict, ignore_index=True)\n",
      "12:23:11 - cmdstanpy - INFO - Chain [1] start processing\n"
     ]
    },
    {
     "name": "stdout",
     "output_type": "stream",
     "text": [
      "Entite 5 F5\n"
     ]
    },
    {
     "name": "stderr",
     "output_type": "stream",
     "text": [
      "12:23:11 - cmdstanpy - INFO - Chain [1] done processing\n",
      "/var/folders/py/4rt338cj1ks4z3332m7l3f880000gp/T/ipykernel_14982/547227983.py:46: FutureWarning: The frame.append method is deprecated and will be removed from pandas in a future version. Use pandas.concat instead.\n",
      "  df_result = df_result.append(row_dict, ignore_index=True)\n",
      "12:23:12 - cmdstanpy - INFO - Chain [1] start processing\n"
     ]
    },
    {
     "name": "stdout",
     "output_type": "stream",
     "text": [
      "Entite 1 F6\n"
     ]
    },
    {
     "name": "stderr",
     "output_type": "stream",
     "text": [
      "12:23:13 - cmdstanpy - INFO - Chain [1] done processing\n",
      "/var/folders/py/4rt338cj1ks4z3332m7l3f880000gp/T/ipykernel_14982/547227983.py:46: FutureWarning: The frame.append method is deprecated and will be removed from pandas in a future version. Use pandas.concat instead.\n",
      "  df_result = df_result.append(row_dict, ignore_index=True)\n"
     ]
    },
    {
     "name": "stdout",
     "output_type": "stream",
     "text": [
      "Entite 2 F6\n",
      "Entite 3 F6\n",
      "Entite 4 F6\n",
      "Entite 5 F6\n"
     ]
    },
    {
     "name": "stderr",
     "output_type": "stream",
     "text": [
      "12:23:14 - cmdstanpy - INFO - Chain [1] start processing\n",
      "12:23:14 - cmdstanpy - INFO - Chain [1] done processing\n",
      "/var/folders/py/4rt338cj1ks4z3332m7l3f880000gp/T/ipykernel_14982/547227983.py:46: FutureWarning: The frame.append method is deprecated and will be removed from pandas in a future version. Use pandas.concat instead.\n",
      "  df_result = df_result.append(row_dict, ignore_index=True)\n",
      "12:23:15 - cmdstanpy - INFO - Chain [1] start processing\n"
     ]
    },
    {
     "name": "stdout",
     "output_type": "stream",
     "text": [
      "Entite 1 F7\n"
     ]
    },
    {
     "name": "stderr",
     "output_type": "stream",
     "text": [
      "12:23:15 - cmdstanpy - INFO - Chain [1] done processing\n",
      "/var/folders/py/4rt338cj1ks4z3332m7l3f880000gp/T/ipykernel_14982/547227983.py:46: FutureWarning: The frame.append method is deprecated and will be removed from pandas in a future version. Use pandas.concat instead.\n",
      "  df_result = df_result.append(row_dict, ignore_index=True)\n",
      "12:23:17 - cmdstanpy - INFO - Chain [1] start processing\n"
     ]
    },
    {
     "name": "stdout",
     "output_type": "stream",
     "text": [
      "Entite 2 F7\n",
      "Entite 3 F7\n"
     ]
    },
    {
     "name": "stderr",
     "output_type": "stream",
     "text": [
      "12:23:17 - cmdstanpy - INFO - Chain [1] done processing\n",
      "/var/folders/py/4rt338cj1ks4z3332m7l3f880000gp/T/ipykernel_14982/547227983.py:46: FutureWarning: The frame.append method is deprecated and will be removed from pandas in a future version. Use pandas.concat instead.\n",
      "  df_result = df_result.append(row_dict, ignore_index=True)\n",
      "12:23:18 - cmdstanpy - INFO - Chain [1] start processing\n"
     ]
    },
    {
     "name": "stdout",
     "output_type": "stream",
     "text": [
      "Entite 4 F7\n"
     ]
    },
    {
     "name": "stderr",
     "output_type": "stream",
     "text": [
      "12:23:18 - cmdstanpy - INFO - Chain [1] done processing\n",
      "/var/folders/py/4rt338cj1ks4z3332m7l3f880000gp/T/ipykernel_14982/547227983.py:46: FutureWarning: The frame.append method is deprecated and will be removed from pandas in a future version. Use pandas.concat instead.\n",
      "  df_result = df_result.append(row_dict, ignore_index=True)\n",
      "12:23:19 - cmdstanpy - INFO - Chain [1] start processing\n"
     ]
    },
    {
     "name": "stdout",
     "output_type": "stream",
     "text": [
      "Entite 5 F7\n"
     ]
    },
    {
     "name": "stderr",
     "output_type": "stream",
     "text": [
      "12:23:19 - cmdstanpy - INFO - Chain [1] done processing\n",
      "/var/folders/py/4rt338cj1ks4z3332m7l3f880000gp/T/ipykernel_14982/547227983.py:46: FutureWarning: The frame.append method is deprecated and will be removed from pandas in a future version. Use pandas.concat instead.\n",
      "  df_result = df_result.append(row_dict, ignore_index=True)\n"
     ]
    }
   ],
   "source": [
    "%matplotlib agg\n",
    "\n",
    "df_tel = pd.read_csv('data/telephonie_select.csv', index_col=\"date_appel\", parse_dates = True)\n",
    "\n",
    "liste_famille = df_tel.Famille.unique()\n",
    "liste_entite = df_tel.Entite.unique()\n",
    "\n",
    "df_result = pd.DataFrame(columns = ['model','Entite', 'Famille','mape','mase','mae','mse'])\n",
    "model_name = 'prophet'\n",
    "os.makedirs(f'images/output/{model_name}', exist_ok=True)\n",
    "for i, famille in enumerate(liste_famille):\n",
    "    for j, entite in enumerate(liste_entite):\n",
    "        print(entite,famille)\n",
    "        \n",
    "        df = df_tel[(df_tel[\"Entite\"] == entite)& (df_tel[\"Famille\"] == famille)]  \n",
    "\n",
    "        if len(df)>0:      \n",
    "            df = df.asfreq('d')\n",
    "            df.Entite = df.Entite.fillna(entite)\n",
    "            df.Famille = df.Famille.fillna(famille)\n",
    "            df.Nombre_entrants_corrige = df.Nombre_entrants_corrige.fillna(0)\n",
    "            df = df.reset_index(names='date')\n",
    "            series = TimeSeries.from_dataframe(df=df, time_col=\"date\", value_cols='Nombre_entrants_corrige')\n",
    "            scaler = MinMaxScaler(feature_range=(-1, 1))\n",
    "            scaler = Scaler(scaler)\n",
    "\n",
    "            train, val = series[:-45], series[-45:]\n",
    "            train = scaler.fit_transform(train)\n",
    "            val = scaler.transform(val)\n",
    "            series_norm = scaler.transform(series)\n",
    "            model = Prophet(add_seasonalities = {'name':'Nombre_entrants_corrige','seasonal_periods':7,'fourier_order': 2},\n",
    "                            country_holidays='FR'\n",
    "                            )       # init\n",
    "            model.fit(train)                      # fit\n",
    "            pred = model.predict(n=45) \n",
    "            mape_score = mape(val, pred)\n",
    "            mase_score = mase(val, pred,insample = train, m=7)\n",
    "            mae_score = mae(val, pred)\n",
    "            mse_score = mse(val, pred)\n",
    "            row_dict= {\n",
    "                'model':'Prophet',\n",
    "                'Entite':entite, 'Famille':famille,\n",
    "                'mape':mape_score, 'mase':mase_score,\n",
    "                'mae':mae_score, 'mse':mse_score\n",
    "            }\n",
    "            df_result = df_result.append(row_dict, ignore_index=True)\n",
    "            \n",
    "\n",
    "\n",
    "            plt.figure(figsize=(8,6))\n",
    "            series_norm[-90:].plot(lw=3)\n",
    "            pred.plot(lw=3, label='forecast')\n",
    "            plt.savefig(f'images/output/{model_name}/{entite}_{famille}.png')\n",
    "df_result.to_csv(f\"data/{model_name}.csv\",index=False)"
   ]
  },
  {
   "cell_type": "code",
   "execution_count": null,
   "metadata": {},
   "outputs": [],
   "source": []
  }
 ],
 "metadata": {
  "kernelspec": {
   "display_name": "env",
   "language": "python",
   "name": "python3"
  },
  "language_info": {
   "codemirror_mode": {
    "name": "ipython",
    "version": 3
   },
   "file_extension": ".py",
   "mimetype": "text/x-python",
   "name": "python",
   "nbconvert_exporter": "python",
   "pygments_lexer": "ipython3",
   "version": "3.11.3"
  },
  "orig_nbformat": 4
 },
 "nbformat": 4,
 "nbformat_minor": 2
}
